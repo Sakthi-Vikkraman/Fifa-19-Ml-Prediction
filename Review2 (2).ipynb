{
  "cells": [
    {
      "cell_type": "code",
      "execution_count": null,
      "metadata": {
        "id": "vujwxRwwcwoV"
      },
      "outputs": [],
      "source": [
        "import numpy as np\n",
        "import pandas as pd\n",
        "import matplotlib.pyplot as plt\n",
        "import pandas as pd\n",
        "import seaborn as sns;sns.set()\n",
        "from sklearn import cluster\n",
        "from tqdm import *\n",
        "from collections import OrderedDict\n",
        "import pdb"
      ]
    },
    {
      "cell_type": "code",
      "execution_count": null,
      "metadata": {
        "colab": {
          "base_uri": "https://localhost:8080/",
          "height": 404
        },
        "id": "OfcVRviCdGdc",
        "outputId": "50a3c0cb-2921-4585-ac81-98f1b943ad1a"
      },
      "outputs": [
        {
          "output_type": "execute_result",
          "data": {
            "text/plain": [
              "   Unnamed: 0      ID               Name  Age  \\\n",
              "0           0  158023           L. Messi   31   \n",
              "1           1   20801  Cristiano Ronaldo   33   \n",
              "2           2  190871          Neymar Jr   26   \n",
              "3           3  193080             De Gea   27   \n",
              "4           4  192985       K. De Bruyne   27   \n",
              "\n",
              "                                            Photo Nationality  \\\n",
              "0  https://cdn.sofifa.org/players/4/19/158023.png   Argentina   \n",
              "1   https://cdn.sofifa.org/players/4/19/20801.png    Portugal   \n",
              "2  https://cdn.sofifa.org/players/4/19/190871.png      Brazil   \n",
              "3  https://cdn.sofifa.org/players/4/19/193080.png       Spain   \n",
              "4  https://cdn.sofifa.org/players/4/19/192985.png     Belgium   \n",
              "\n",
              "                                  Flag  Overall  Potential  \\\n",
              "0  https://cdn.sofifa.org/flags/52.png       94         94   \n",
              "1  https://cdn.sofifa.org/flags/38.png       94         94   \n",
              "2  https://cdn.sofifa.org/flags/54.png       92         93   \n",
              "3  https://cdn.sofifa.org/flags/45.png       91         93   \n",
              "4   https://cdn.sofifa.org/flags/7.png       91         92   \n",
              "\n",
              "                  Club  ... Composure Marking StandingTackle  SlidingTackle  \\\n",
              "0         FC Barcelona  ...      96.0    33.0           28.0           26.0   \n",
              "1             Juventus  ...      95.0    28.0           31.0           23.0   \n",
              "2  Paris Saint-Germain  ...      94.0    27.0           24.0           33.0   \n",
              "3    Manchester United  ...      68.0    15.0           21.0           13.0   \n",
              "4      Manchester City  ...      88.0    68.0           58.0           51.0   \n",
              "\n",
              "  GKDiving  GKHandling  GKKicking  GKPositioning GKReflexes Release Clause  \n",
              "0      6.0        11.0       15.0           14.0        8.0        €226.5M  \n",
              "1      7.0        11.0       15.0           14.0       11.0        €127.1M  \n",
              "2      9.0         9.0       15.0           15.0       11.0        €228.1M  \n",
              "3     90.0        85.0       87.0           88.0       94.0        €138.6M  \n",
              "4     15.0        13.0        5.0           10.0       13.0        €196.4M  \n",
              "\n",
              "[5 rows x 89 columns]"
            ],
            "text/html": [
              "\n",
              "  <div id=\"df-34ac1f4b-0883-418f-8b90-201ebf82e9e0\">\n",
              "    <div class=\"colab-df-container\">\n",
              "      <div>\n",
              "<style scoped>\n",
              "    .dataframe tbody tr th:only-of-type {\n",
              "        vertical-align: middle;\n",
              "    }\n",
              "\n",
              "    .dataframe tbody tr th {\n",
              "        vertical-align: top;\n",
              "    }\n",
              "\n",
              "    .dataframe thead th {\n",
              "        text-align: right;\n",
              "    }\n",
              "</style>\n",
              "<table border=\"1\" class=\"dataframe\">\n",
              "  <thead>\n",
              "    <tr style=\"text-align: right;\">\n",
              "      <th></th>\n",
              "      <th>Unnamed: 0</th>\n",
              "      <th>ID</th>\n",
              "      <th>Name</th>\n",
              "      <th>Age</th>\n",
              "      <th>Photo</th>\n",
              "      <th>Nationality</th>\n",
              "      <th>Flag</th>\n",
              "      <th>Overall</th>\n",
              "      <th>Potential</th>\n",
              "      <th>Club</th>\n",
              "      <th>...</th>\n",
              "      <th>Composure</th>\n",
              "      <th>Marking</th>\n",
              "      <th>StandingTackle</th>\n",
              "      <th>SlidingTackle</th>\n",
              "      <th>GKDiving</th>\n",
              "      <th>GKHandling</th>\n",
              "      <th>GKKicking</th>\n",
              "      <th>GKPositioning</th>\n",
              "      <th>GKReflexes</th>\n",
              "      <th>Release Clause</th>\n",
              "    </tr>\n",
              "  </thead>\n",
              "  <tbody>\n",
              "    <tr>\n",
              "      <th>0</th>\n",
              "      <td>0</td>\n",
              "      <td>158023</td>\n",
              "      <td>L. Messi</td>\n",
              "      <td>31</td>\n",
              "      <td>https://cdn.sofifa.org/players/4/19/158023.png</td>\n",
              "      <td>Argentina</td>\n",
              "      <td>https://cdn.sofifa.org/flags/52.png</td>\n",
              "      <td>94</td>\n",
              "      <td>94</td>\n",
              "      <td>FC Barcelona</td>\n",
              "      <td>...</td>\n",
              "      <td>96.0</td>\n",
              "      <td>33.0</td>\n",
              "      <td>28.0</td>\n",
              "      <td>26.0</td>\n",
              "      <td>6.0</td>\n",
              "      <td>11.0</td>\n",
              "      <td>15.0</td>\n",
              "      <td>14.0</td>\n",
              "      <td>8.0</td>\n",
              "      <td>€226.5M</td>\n",
              "    </tr>\n",
              "    <tr>\n",
              "      <th>1</th>\n",
              "      <td>1</td>\n",
              "      <td>20801</td>\n",
              "      <td>Cristiano Ronaldo</td>\n",
              "      <td>33</td>\n",
              "      <td>https://cdn.sofifa.org/players/4/19/20801.png</td>\n",
              "      <td>Portugal</td>\n",
              "      <td>https://cdn.sofifa.org/flags/38.png</td>\n",
              "      <td>94</td>\n",
              "      <td>94</td>\n",
              "      <td>Juventus</td>\n",
              "      <td>...</td>\n",
              "      <td>95.0</td>\n",
              "      <td>28.0</td>\n",
              "      <td>31.0</td>\n",
              "      <td>23.0</td>\n",
              "      <td>7.0</td>\n",
              "      <td>11.0</td>\n",
              "      <td>15.0</td>\n",
              "      <td>14.0</td>\n",
              "      <td>11.0</td>\n",
              "      <td>€127.1M</td>\n",
              "    </tr>\n",
              "    <tr>\n",
              "      <th>2</th>\n",
              "      <td>2</td>\n",
              "      <td>190871</td>\n",
              "      <td>Neymar Jr</td>\n",
              "      <td>26</td>\n",
              "      <td>https://cdn.sofifa.org/players/4/19/190871.png</td>\n",
              "      <td>Brazil</td>\n",
              "      <td>https://cdn.sofifa.org/flags/54.png</td>\n",
              "      <td>92</td>\n",
              "      <td>93</td>\n",
              "      <td>Paris Saint-Germain</td>\n",
              "      <td>...</td>\n",
              "      <td>94.0</td>\n",
              "      <td>27.0</td>\n",
              "      <td>24.0</td>\n",
              "      <td>33.0</td>\n",
              "      <td>9.0</td>\n",
              "      <td>9.0</td>\n",
              "      <td>15.0</td>\n",
              "      <td>15.0</td>\n",
              "      <td>11.0</td>\n",
              "      <td>€228.1M</td>\n",
              "    </tr>\n",
              "    <tr>\n",
              "      <th>3</th>\n",
              "      <td>3</td>\n",
              "      <td>193080</td>\n",
              "      <td>De Gea</td>\n",
              "      <td>27</td>\n",
              "      <td>https://cdn.sofifa.org/players/4/19/193080.png</td>\n",
              "      <td>Spain</td>\n",
              "      <td>https://cdn.sofifa.org/flags/45.png</td>\n",
              "      <td>91</td>\n",
              "      <td>93</td>\n",
              "      <td>Manchester United</td>\n",
              "      <td>...</td>\n",
              "      <td>68.0</td>\n",
              "      <td>15.0</td>\n",
              "      <td>21.0</td>\n",
              "      <td>13.0</td>\n",
              "      <td>90.0</td>\n",
              "      <td>85.0</td>\n",
              "      <td>87.0</td>\n",
              "      <td>88.0</td>\n",
              "      <td>94.0</td>\n",
              "      <td>€138.6M</td>\n",
              "    </tr>\n",
              "    <tr>\n",
              "      <th>4</th>\n",
              "      <td>4</td>\n",
              "      <td>192985</td>\n",
              "      <td>K. De Bruyne</td>\n",
              "      <td>27</td>\n",
              "      <td>https://cdn.sofifa.org/players/4/19/192985.png</td>\n",
              "      <td>Belgium</td>\n",
              "      <td>https://cdn.sofifa.org/flags/7.png</td>\n",
              "      <td>91</td>\n",
              "      <td>92</td>\n",
              "      <td>Manchester City</td>\n",
              "      <td>...</td>\n",
              "      <td>88.0</td>\n",
              "      <td>68.0</td>\n",
              "      <td>58.0</td>\n",
              "      <td>51.0</td>\n",
              "      <td>15.0</td>\n",
              "      <td>13.0</td>\n",
              "      <td>5.0</td>\n",
              "      <td>10.0</td>\n",
              "      <td>13.0</td>\n",
              "      <td>€196.4M</td>\n",
              "    </tr>\n",
              "  </tbody>\n",
              "</table>\n",
              "<p>5 rows × 89 columns</p>\n",
              "</div>\n",
              "      <button class=\"colab-df-convert\" onclick=\"convertToInteractive('df-34ac1f4b-0883-418f-8b90-201ebf82e9e0')\"\n",
              "              title=\"Convert this dataframe to an interactive table.\"\n",
              "              style=\"display:none;\">\n",
              "        \n",
              "  <svg xmlns=\"http://www.w3.org/2000/svg\" height=\"24px\"viewBox=\"0 0 24 24\"\n",
              "       width=\"24px\">\n",
              "    <path d=\"M0 0h24v24H0V0z\" fill=\"none\"/>\n",
              "    <path d=\"M18.56 5.44l.94 2.06.94-2.06 2.06-.94-2.06-.94-.94-2.06-.94 2.06-2.06.94zm-11 1L8.5 8.5l.94-2.06 2.06-.94-2.06-.94L8.5 2.5l-.94 2.06-2.06.94zm10 10l.94 2.06.94-2.06 2.06-.94-2.06-.94-.94-2.06-.94 2.06-2.06.94z\"/><path d=\"M17.41 7.96l-1.37-1.37c-.4-.4-.92-.59-1.43-.59-.52 0-1.04.2-1.43.59L10.3 9.45l-7.72 7.72c-.78.78-.78 2.05 0 2.83L4 21.41c.39.39.9.59 1.41.59.51 0 1.02-.2 1.41-.59l7.78-7.78 2.81-2.81c.8-.78.8-2.07 0-2.86zM5.41 20L4 18.59l7.72-7.72 1.47 1.35L5.41 20z\"/>\n",
              "  </svg>\n",
              "      </button>\n",
              "      \n",
              "  <style>\n",
              "    .colab-df-container {\n",
              "      display:flex;\n",
              "      flex-wrap:wrap;\n",
              "      gap: 12px;\n",
              "    }\n",
              "\n",
              "    .colab-df-convert {\n",
              "      background-color: #E8F0FE;\n",
              "      border: none;\n",
              "      border-radius: 50%;\n",
              "      cursor: pointer;\n",
              "      display: none;\n",
              "      fill: #1967D2;\n",
              "      height: 32px;\n",
              "      padding: 0 0 0 0;\n",
              "      width: 32px;\n",
              "    }\n",
              "\n",
              "    .colab-df-convert:hover {\n",
              "      background-color: #E2EBFA;\n",
              "      box-shadow: 0px 1px 2px rgba(60, 64, 67, 0.3), 0px 1px 3px 1px rgba(60, 64, 67, 0.15);\n",
              "      fill: #174EA6;\n",
              "    }\n",
              "\n",
              "    [theme=dark] .colab-df-convert {\n",
              "      background-color: #3B4455;\n",
              "      fill: #D2E3FC;\n",
              "    }\n",
              "\n",
              "    [theme=dark] .colab-df-convert:hover {\n",
              "      background-color: #434B5C;\n",
              "      box-shadow: 0px 1px 3px 1px rgba(0, 0, 0, 0.15);\n",
              "      filter: drop-shadow(0px 1px 2px rgba(0, 0, 0, 0.3));\n",
              "      fill: #FFFFFF;\n",
              "    }\n",
              "  </style>\n",
              "\n",
              "      <script>\n",
              "        const buttonEl =\n",
              "          document.querySelector('#df-34ac1f4b-0883-418f-8b90-201ebf82e9e0 button.colab-df-convert');\n",
              "        buttonEl.style.display =\n",
              "          google.colab.kernel.accessAllowed ? 'block' : 'none';\n",
              "\n",
              "        async function convertToInteractive(key) {\n",
              "          const element = document.querySelector('#df-34ac1f4b-0883-418f-8b90-201ebf82e9e0');\n",
              "          const dataTable =\n",
              "            await google.colab.kernel.invokeFunction('convertToInteractive',\n",
              "                                                     [key], {});\n",
              "          if (!dataTable) return;\n",
              "\n",
              "          const docLinkHtml = 'Like what you see? Visit the ' +\n",
              "            '<a target=\"_blank\" href=https://colab.research.google.com/notebooks/data_table.ipynb>data table notebook</a>'\n",
              "            + ' to learn more about interactive tables.';\n",
              "          element.innerHTML = '';\n",
              "          dataTable['output_type'] = 'display_data';\n",
              "          await google.colab.output.renderOutput(dataTable, element);\n",
              "          const docLink = document.createElement('div');\n",
              "          docLink.innerHTML = docLinkHtml;\n",
              "          element.appendChild(docLink);\n",
              "        }\n",
              "      </script>\n",
              "    </div>\n",
              "  </div>\n",
              "  "
            ]
          },
          "metadata": {},
          "execution_count": 5
        }
      ],
      "source": [
        "data = pd.read_csv('data.csv')\n",
        "data.head()"
      ]
    },
    {
      "cell_type": "markdown",
      "metadata": {
        "id": "a_XmlB5TNit_"
      },
      "source": [
        "### Null value Detection"
      ]
    },
    {
      "cell_type": "code",
      "execution_count": null,
      "metadata": {
        "id": "zGW6OD6GdT4W"
      },
      "outputs": [],
      "source": [
        "data['ShortPassing'].fillna(data['ShortPassing'].mean(), inplace = True)\n",
        "data['Volleys'].fillna(data['Volleys'].mean(), inplace = True)\n",
        "data['Dribbling'].fillna(data['Dribbling'].mean(), inplace = True)\n",
        "data['Curve'].fillna(data['Curve'].mean(), inplace = True)\n",
        "data['FKAccuracy'].fillna(data['FKAccuracy'], inplace = True)\n",
        "data['LongPassing'].fillna(data['LongPassing'].mean(), inplace = True)\n",
        "data['BallControl'].fillna(data['BallControl'].mean(), inplace = True)\n",
        "data['HeadingAccuracy'].fillna(data['HeadingAccuracy'].mean(), inplace = True)\n",
        "data['Finishing'].fillna(data['Finishing'].mean(), inplace = True)\n",
        "data['Crossing'].fillna(data['Crossing'].mean(), inplace = True)\n",
        "data['Weight'].fillna('200lbs', inplace = True)\n",
        "data['Contract Valid Until'].fillna(2019, inplace = True)\n",
        "data['Height'].fillna(\"5'11\", inplace = True)\n",
        "data['Loaned From'].fillna('None', inplace = True)\n",
        "data['Joined'].fillna('Jul 1, 2018', inplace = True)\n",
        "data['Jersey Number'].fillna(8, inplace = True)\n",
        "data['Body Type'].fillna('Normal', inplace = True)\n",
        "data['Position'].fillna('ST', inplace = True)\n",
        "data['Club'].fillna('No Club', inplace = True)\n",
        "data['Work Rate'].fillna('Medium/ Medium', inplace = True)\n",
        "data['Skill Moves'].fillna(data['Skill Moves'].median(), inplace = True)\n",
        "data['Weak Foot'].fillna(3, inplace = True)\n",
        "data['Preferred Foot'].fillna('Right', inplace = True)\n",
        "data['International Reputation'].fillna(1, inplace = True)\n",
        "data['Wage'].fillna('€200K', inplace = True)\n",
        "data.fillna(0, inplace = True)"
      ]
    },
    {
      "cell_type": "markdown",
      "metadata": {
        "id": "OFZ0iG3oNJs-"
      },
      "source": [
        "### Unwanted column detection"
      ]
    },
    {
      "cell_type": "code",
      "execution_count": null,
      "metadata": {
        "colab": {
          "base_uri": "https://localhost:8080/"
        },
        "id": "iIOfWe13gwqO",
        "outputId": "32c9700a-8be9-4155-ac45-167b84a4819f"
      },
      "outputs": [
        {
          "output_type": "stream",
          "name": "stdout",
          "text": [
            "                      Club  Overall  Potential     Crossing    Finishing  \\\n",
            "0      SSV Jahn Regensburg     1902       2010  1368.000000  1261.000000   \n",
            "1    1. FC Heidenheim 1846     1841       2014  1385.000000  1274.000000   \n",
            "2     1. FC Kaiserslautern     1648       1817  1250.000000  1082.000000   \n",
            "3               1. FC Köln     1982       2144  1466.000000  1291.000000   \n",
            "4          1. FC Magdeburg     1706       1829  1209.000000  1166.000000   \n",
            "..                     ...      ...        ...          ...          ...   \n",
            "647     Zagłębie Sosnowiec     1519       1616  1161.000000  1007.000000   \n",
            "648        Çaykur Rizespor     2007       2150  1512.000000  1390.000000   \n",
            "649              Örebro SK     1633       1796  1180.000000  1042.000000   \n",
            "650          Östersunds FK     1398       1515  1080.000000   917.000000   \n",
            "651          Śląsk Wrocław     1555       1639  1107.734181  1099.550911   \n",
            "\n",
            "     HeadingAccuracy  ShortPassing      Volleys    Dribbling        Curve  \\\n",
            "0        1605.000000   1679.000000  1211.000000  1527.000000  1258.000000   \n",
            "1        1397.000000   1625.000000  1210.000000  1518.000000  1311.000000   \n",
            "2        1322.000000   1460.000000  1069.000000  1294.000000  1186.000000   \n",
            "3        1518.000000   1783.000000  1247.000000  1623.000000  1425.000000   \n",
            "4        1320.000000   1487.000000   962.000000  1335.000000  1112.000000   \n",
            "..               ...           ...          ...          ...          ...   \n",
            "647      1152.000000   1357.000000   979.000000  1252.000000  1046.000000   \n",
            "648      1596.000000   1783.000000  1315.000000  1708.000000  1481.000000   \n",
            "649      1192.000000   1382.000000  1028.000000  1341.000000  1217.000000   \n",
            "650       943.000000   1238.000000   918.000000  1207.000000  1092.000000   \n",
            "651      1341.298144   1371.686712  1030.909026  1293.371001  1028.170824   \n",
            "\n",
            "     ...  Penalties  Composure  Marking  StandingTackle  SlidingTackle  \\\n",
            "0    ...     1330.0     1635.0   1431.0          1310.0         1246.0   \n",
            "1    ...     1306.0     1575.0   1235.0          1307.0         1241.0   \n",
            "2    ...     1194.0     1374.0   1100.0          1150.0         1145.0   \n",
            "3    ...     1413.0     1731.0   1474.0          1471.0         1378.0   \n",
            "4    ...     1206.0     1371.0   1215.0          1207.0         1167.0   \n",
            "..   ...        ...        ...      ...             ...            ...   \n",
            "647  ...     1113.0     1371.0   1219.0          1187.0         1156.0   \n",
            "648  ...     1511.0     1706.0   1382.0          1501.0         1465.0   \n",
            "649  ...     1128.0     1462.0   1170.0          1082.0         1043.0   \n",
            "650  ...      938.0     1257.0   1035.0           939.0          905.0   \n",
            "651  ...     1150.0     1314.0   1047.0          1161.0         1129.0   \n",
            "\n",
            "     GKDiving  GKHandling  GKKicking  GKPositioning  GKReflexes  \n",
            "0       463.0       469.0      427.0          467.0       470.0  \n",
            "1       486.0       471.0      418.0          477.0       452.0  \n",
            "2       416.0       399.0      388.0          395.0       391.0  \n",
            "3       521.0       494.0      541.0          500.0       503.0  \n",
            "4       406.0       430.0      408.0          406.0       448.0  \n",
            "..        ...         ...        ...            ...         ...  \n",
            "647     427.0       391.0      417.0          391.0       413.0  \n",
            "648     514.0       544.0      528.0          536.0       527.0  \n",
            "649     422.0       419.0      395.0          434.0       423.0  \n",
            "650     365.0       378.0      397.0          357.0       385.0  \n",
            "651     408.0       403.0      367.0          394.0       403.0  \n",
            "\n",
            "[652 rows x 37 columns]\n"
          ]
        },
        {
          "output_type": "stream",
          "name": "stderr",
          "text": [
            "<ipython-input-7-6b105ac6552a>:1: FutureWarning: Indexing with multiple keys (implicitly converted to a tuple of keys) will be deprecated, use a list instead.\n",
            "  team = data.groupby('Club',as_index=False)['Overall','Potential','Crossing','Finishing','HeadingAccuracy','ShortPassing','Volleys','Dribbling','Curve','FKAccuracy','LongPassing','BallControl','Acceleration','SprintSpeed','Agility','Reactions','Balance','ShotPower','Jumping','Stamina','Strength','LongShots','Aggression','Interceptions','Positioning','Vision','Penalties','Composure','Marking','StandingTackle','SlidingTackle','GKDiving','GKHandling','GKKicking','GKPositioning','GKReflexes'].sum()\n"
          ]
        }
      ],
      "source": [
        "team = data.groupby('Club',as_index=False)['Overall','Potential','Crossing','Finishing','HeadingAccuracy','ShortPassing','Volleys','Dribbling','Curve','FKAccuracy','LongPassing','BallControl','Acceleration','SprintSpeed','Agility','Reactions','Balance','ShotPower','Jumping','Stamina','Strength','LongShots','Aggression','Interceptions','Positioning','Vision','Penalties','Composure','Marking','StandingTackle','SlidingTackle','GKDiving','GKHandling','GKKicking','GKPositioning','GKReflexes'].sum()\n",
        "#team.sort_values(by='Overall', ascending=False, inplace=True)\n",
        "team1 = team.sort_values(by='Club', ascending=False, inplace=False)\n",
        "print (team)"
      ]
    },
    {
      "cell_type": "code",
      "execution_count": null,
      "metadata": {
        "colab": {
          "base_uri": "https://localhost:8080/"
        },
        "id": "TwpyVG7mg_T-",
        "outputId": "00d084e9-d44f-4360-cc11-f6fcee1980b8"
      },
      "outputs": [
        {
          "output_type": "execute_result",
          "data": {
            "text/plain": [
              "Club               0\n",
              "Overall            0\n",
              "Potential          0\n",
              "Crossing           0\n",
              "Finishing          0\n",
              "HeadingAccuracy    0\n",
              "ShortPassing       0\n",
              "Volleys            0\n",
              "Dribbling          0\n",
              "Curve              0\n",
              "FKAccuracy         0\n",
              "LongPassing        0\n",
              "BallControl        0\n",
              "Acceleration       0\n",
              "SprintSpeed        0\n",
              "Agility            0\n",
              "Reactions          0\n",
              "Balance            0\n",
              "ShotPower          0\n",
              "Jumping            0\n",
              "Stamina            0\n",
              "Strength           0\n",
              "LongShots          0\n",
              "Aggression         0\n",
              "Interceptions      0\n",
              "Positioning        0\n",
              "Vision             0\n",
              "Penalties          0\n",
              "Composure          0\n",
              "Marking            0\n",
              "StandingTackle     0\n",
              "SlidingTackle      0\n",
              "GKDiving           0\n",
              "GKHandling         0\n",
              "GKKicking          0\n",
              "GKPositioning      0\n",
              "GKReflexes         0\n",
              "dtype: int64"
            ]
          },
          "metadata": {},
          "execution_count": 8
        }
      ],
      "source": [
        "team.isnull().sum()"
      ]
    },
    {
      "cell_type": "code",
      "execution_count": null,
      "metadata": {
        "colab": {
          "base_uri": "https://localhost:8080/",
          "height": 879
        },
        "id": "UO0Vnbz3hChQ",
        "outputId": "2d584de5-2456-412d-e59b-01309887398d"
      },
      "outputs": [
        {
          "output_type": "display_data",
          "data": {
            "text/plain": [
              "<Figure size 1080x1080 with 2 Axes>"
            ],
            "image/png": "[encoded data removed]"
          },
          "metadata": {}
        }
      ],
      "source": [
        "correlations = team.corr()\n",
        "hm = np.zeros_like(correlations)\n",
        "hm[np.triu_indices_from(hm)] = True\n",
        "with sns.axes_style(\"white\"):\n",
        "    f, ax = plt.subplots(figsize=(15, 15))\n",
        "    ax = sns.heatmap(correlations,mask=hm,square=True,linewidths=.8,cmap=\"Greens\")"
      ]
    },
    {
      "cell_type": "code",
      "execution_count": null,
      "metadata": {
        "id": "EKcBbu2hhJhF"
      },
      "outputs": [],
      "source": [
        "# as potential is more corellated to overall, we remove it\n",
        "#the overall acts as dependant attribute to all other features\n",
        "team.drop(['Potential'],axis=1,inplace=True)"
      ]
    },
    {
      "cell_type": "markdown",
      "metadata": {
        "id": "qZjScOayNCCr"
      },
      "source": [
        "###Outlier Detection"
      ]
    },
    {
      "cell_type": "code",
      "execution_count": null,
      "metadata": {
        "colab": {
          "base_uri": "https://localhost:8080/"
        },
        "id": "kpOxiQjHMI0V",
        "outputId": "cacb1a70-9890-4365-9254-8f9f6af3c6d7"
      },
      "outputs": [
        {
          "output_type": "stream",
          "name": "stdout",
          "text": [
            "capping the  Club\n",
            "capping the  Overall\n",
            "capping the  Crossing\n",
            "capping the  Finishing\n",
            "capping the  HeadingAccuracy\n",
            "capping the  ShortPassing\n",
            "capping the  Volleys\n",
            "capping the  Dribbling\n",
            "capping the  Curve\n",
            "capping the  FKAccuracy\n",
            "capping the  LongPassing\n",
            "capping the  BallControl\n",
            "capping the  Acceleration\n",
            "capping the  SprintSpeed\n",
            "capping the  Agility\n",
            "capping the  Reactions\n",
            "capping the  Balance\n",
            "capping the  ShotPower\n",
            "capping the  Jumping\n",
            "capping the  Stamina\n",
            "capping the  Strength\n",
            "capping the  LongShots\n",
            "capping the  Aggression\n",
            "capping the  Interceptions\n",
            "capping the  Positioning\n",
            "capping the  Vision\n",
            "capping the  Penalties\n",
            "capping the  Composure\n",
            "capping the  Marking\n",
            "capping the  StandingTackle\n",
            "capping the  SlidingTackle\n",
            "capping the  GKDiving\n",
            "capping the  GKHandling\n",
            "capping the  GKKicking\n",
            "capping the  GKPositioning\n",
            "capping the  GKReflexes\n"
          ]
        },
        {
          "output_type": "stream",
          "name": "stderr",
          "text": [
            "<ipython-input-11-2951bf139e7f>:6: SettingWithCopyWarning: \n",
            "A value is trying to be set on a copy of a slice from a DataFrame\n",
            "\n",
            "See the caveats in the documentation: https://pandas.pydata.org/pandas-docs/stable/user_guide/indexing.html#returning-a-view-versus-a-copy\n",
            "  team[col][team[col] <= percentiles[0]] = percentiles[0]\n",
            "<ipython-input-11-2951bf139e7f>:7: SettingWithCopyWarning: \n",
            "A value is trying to be set on a copy of a slice from a DataFrame\n",
            "\n",
            "See the caveats in the documentation: https://pandas.pydata.org/pandas-docs/stable/user_guide/indexing.html#returning-a-view-versus-a-copy\n",
            "  team[col][team[col] >= percentiles[1]] = percentiles[1]\n",
            "<ipython-input-11-2951bf139e7f>:6: SettingWithCopyWarning: \n",
            "A value is trying to be set on a copy of a slice from a DataFrame\n",
            "\n",
            "See the caveats in the documentation: https://pandas.pydata.org/pandas-docs/stable/user_guide/indexing.html#returning-a-view-versus-a-copy\n",
            "  team[col][team[col] <= percentiles[0]] = percentiles[0]\n"
          ]
        }
      ],
      "source": [
        "def cap_data(team):\n",
        "    for col in team.columns:\n",
        "        print(\"capping the \",col)\n",
        "        if (((team[col].dtype)=='float64') | ((team[col].dtype)=='int64')):\n",
        "            percentiles = team[col].quantile([0.01,0.99]).values\n",
        "            team[col][team[col] <= percentiles[0]] = percentiles[0]\n",
        "            team[col][team[col] >= percentiles[1]] = percentiles[1]\n",
        "        else:\n",
        "            team[col]=team[col]\n",
        "    return team\n",
        "\n",
        "final_team=cap_data(team)"
      ]
    },
    {
      "cell_type": "markdown",
      "metadata": {
        "id": "PoXWHnKWNWOU"
      },
      "source": [
        "### Encoding"
      ]
    },
    {
      "cell_type": "code",
      "execution_count": null,
      "metadata": {
        "id": "EDUi9A5MhOe5"
      },
      "outputs": [],
      "source": [
        "Result=[]\n",
        "temp = team.Overall.values\n",
        "for i in range(len(temp)):\n",
        "    if temp[i] >= 1965.25:\n",
        "        temp[i]=2\n",
        "    elif temp[i]<1965.25 and temp[i]>=1687.5:\n",
        "        temp[i]=1\n",
        "    else:\n",
        "        temp[i]=0"
      ]
    },
    {
      "cell_type": "code",
      "execution_count": null,
      "metadata": {
        "colab": {
          "base_uri": "https://localhost:8080/",
          "height": 644
        },
        "id": "coHuowH1hTjr",
        "outputId": "1931b7d4-0f04-4d38-94b6-96864c39a9de"
      },
      "outputs": [
        {
          "output_type": "execute_result",
          "data": {
            "text/plain": [
              "                      Club  Overall     Crossing    Finishing  \\\n",
              "0      SSV Jahn Regensburg      1.0  1368.000000  1261.000000   \n",
              "1    1. FC Heidenheim 1846      1.0  1385.000000  1274.000000   \n",
              "2     1. FC Kaiserslautern      0.0  1250.000000  1082.000000   \n",
              "3               1. FC Köln      2.0  1466.000000  1291.000000   \n",
              "4          1. FC Magdeburg      1.0  1209.000000  1166.000000   \n",
              "..                     ...      ...          ...          ...   \n",
              "647     Zagłębie Sosnowiec      0.0  1161.000000  1007.000000   \n",
              "648        Çaykur Rizespor      2.0  1512.000000  1390.000000   \n",
              "649              Örebro SK      0.0  1180.000000  1042.000000   \n",
              "650          Östersunds FK      0.0  1080.000000   920.510000   \n",
              "651          Śląsk Wrocław      0.0  1107.734181  1099.550911   \n",
              "\n",
              "     HeadingAccuracy  ShortPassing      Volleys    Dribbling        Curve  \\\n",
              "0        1605.000000   1679.000000  1211.000000  1527.000000  1258.000000   \n",
              "1        1397.000000   1625.000000  1210.000000  1518.000000  1311.000000   \n",
              "2        1322.000000   1460.000000  1069.000000  1294.000000  1186.000000   \n",
              "3        1518.000000   1783.000000  1247.000000  1623.000000  1425.000000   \n",
              "4        1320.000000   1487.000000   962.000000  1335.000000  1112.000000   \n",
              "..               ...           ...          ...          ...          ...   \n",
              "647      1152.000000   1357.000000   979.000000  1252.000000  1046.000000   \n",
              "648      1596.000000   1783.000000  1315.000000  1708.000000  1481.000000   \n",
              "649      1192.000000   1382.000000  1028.000000  1341.000000  1217.000000   \n",
              "650      1033.750000   1238.000000   918.000000  1207.000000  1092.000000   \n",
              "651      1341.298144   1371.686712  1030.909026  1293.371001  1028.170824   \n",
              "\n",
              "     FKAccuracy  ...  Penalties  Composure  Marking  StandingTackle  \\\n",
              "0        1091.0  ...     1330.0     1635.0   1431.0         1310.00   \n",
              "1        1219.0  ...     1306.0     1575.0   1235.0         1307.00   \n",
              "2        1086.0  ...     1194.0     1374.0   1100.0         1150.00   \n",
              "3        1272.0  ...     1413.0     1731.0   1474.0         1471.00   \n",
              "4         987.0  ...     1206.0     1371.0   1215.0         1207.00   \n",
              "..          ...  ...        ...        ...      ...             ...   \n",
              "647       896.0  ...     1113.0     1371.0   1219.0         1187.00   \n",
              "648      1279.0  ...     1511.0     1706.0   1382.0         1501.00   \n",
              "649       978.0  ...     1128.0     1462.0   1170.0         1082.00   \n",
              "650       898.0  ...      938.0     1257.0   1035.0          950.14   \n",
              "651       889.0  ...     1150.0     1314.0   1047.0         1161.00   \n",
              "\n",
              "     SlidingTackle  GKDiving  GKHandling  GKKicking  GKPositioning  GKReflexes  \n",
              "0          1246.00     463.0       469.0      427.0          467.0       470.0  \n",
              "1          1241.00     486.0       471.0      418.0          477.0       452.0  \n",
              "2          1145.00     416.0       399.0      388.0          395.0       391.0  \n",
              "3          1378.00     521.0       494.0      541.0          500.0       503.0  \n",
              "4          1167.00     406.0       430.0      408.0          406.0       448.0  \n",
              "..             ...       ...         ...        ...            ...         ...  \n",
              "647        1156.00     427.0       391.0      417.0          391.0       413.0  \n",
              "648        1465.00     514.0       544.0      528.0          536.0       527.0  \n",
              "649        1043.00     422.0       419.0      395.0          434.0       423.0  \n",
              "650         906.02     365.0       378.0      397.0          357.0       385.0  \n",
              "651        1129.00     408.0       403.0      367.0          394.0       403.0  \n",
              "\n",
              "[652 rows x 36 columns]"
            ],
            "text/html": [
              "\n",
              "  <div id=\"df-d3b14580-8611-46bd-bbea-efc63ad74c18\">\n",
              "    <div class=\"colab-df-container\">\n",
              "      <div>\n",
              "<style scoped>\n",
              "    .dataframe tbody tr th:only-of-type {\n",
              "        vertical-align: middle;\n",
              "    }\n",
              "\n",
              "    .dataframe tbody tr th {\n",
              "        vertical-align: top;\n",
              "    }\n",
              "\n",
              "    .dataframe thead th {\n",
              "        text-align: right;\n",
              "    }\n",
              "</style>\n",
              "<table border=\"1\" class=\"dataframe\">\n",
              "  <thead>\n",
              "    <tr style=\"text-align: right;\">\n",
              "      <th></th>\n",
              "      <th>Club</th>\n",
              "      <th>Overall</th>\n",
              "      <th>Crossing</th>\n",
              "      <th>Finishing</th>\n",
              "      <th>HeadingAccuracy</th>\n",
              "      <th>ShortPassing</th>\n",
              "      <th>Volleys</th>\n",
              "      <th>Dribbling</th>\n",
              "      <th>Curve</th>\n",
              "      <th>FKAccuracy</th>\n",
              "      <th>...</th>\n",
              "      <th>Penalties</th>\n",
              "      <th>Composure</th>\n",
              "      <th>Marking</th>\n",
              "      <th>StandingTackle</th>\n",
              "      <th>SlidingTackle</th>\n",
              "      <th>GKDiving</th>\n",
              "      <th>GKHandling</th>\n",
              "      <th>GKKicking</th>\n",
              "      <th>GKPositioning</th>\n",
              "      <th>GKReflexes</th>\n",
              "    </tr>\n",
              "  </thead>\n",
              "  <tbody>\n",
              "    <tr>\n",
              "      <th>0</th>\n",
              "      <td>SSV Jahn Regensburg</td>\n",
              "      <td>1.0</td>\n",
              "      <td>1368.000000</td>\n",
              "      <td>1261.000000</td>\n",
              "      <td>1605.000000</td>\n",
              "      <td>1679.000000</td>\n",
              "      <td>1211.000000</td>\n",
              "      <td>1527.000000</td>\n",
              "      <td>1258.000000</td>\n",
              "      <td>1091.0</td>\n",
              "      <td>...</td>\n",
              "      <td>1330.0</td>\n",
              "      <td>1635.0</td>\n",
              "      <td>1431.0</td>\n",
              "      <td>1310.00</td>\n",
              "      <td>1246.00</td>\n",
              "      <td>463.0</td>\n",
              "      <td>469.0</td>\n",
              "      <td>427.0</td>\n",
              "      <td>467.0</td>\n",
              "      <td>470.0</td>\n",
              "    </tr>\n",
              "    <tr>\n",
              "      <th>1</th>\n",
              "      <td>1. FC Heidenheim 1846</td>\n",
              "      <td>1.0</td>\n",
              "      <td>1385.000000</td>\n",
              "      <td>1274.000000</td>\n",
              "      <td>1397.000000</td>\n",
              "      <td>1625.000000</td>\n",
              "      <td>1210.000000</td>\n",
              "      <td>1518.000000</td>\n",
              "      <td>1311.000000</td>\n",
              "      <td>1219.0</td>\n",
              "      <td>...</td>\n",
              "      <td>1306.0</td>\n",
              "      <td>1575.0</td>\n",
              "      <td>1235.0</td>\n",
              "      <td>1307.00</td>\n",
              "      <td>1241.00</td>\n",
              "      <td>486.0</td>\n",
              "      <td>471.0</td>\n",
              "      <td>418.0</td>\n",
              "      <td>477.0</td>\n",
              "      <td>452.0</td>\n",
              "    </tr>\n",
              "    <tr>\n",
              "      <th>2</th>\n",
              "      <td>1. FC Kaiserslautern</td>\n",
              "      <td>0.0</td>\n",
              "      <td>1250.000000</td>\n",
              "      <td>1082.000000</td>\n",
              "      <td>1322.000000</td>\n",
              "      <td>1460.000000</td>\n",
              "      <td>1069.000000</td>\n",
              "      <td>1294.000000</td>\n",
              "      <td>1186.000000</td>\n",
              "      <td>1086.0</td>\n",
              "      <td>...</td>\n",
              "      <td>1194.0</td>\n",
              "      <td>1374.0</td>\n",
              "      <td>1100.0</td>\n",
              "      <td>1150.00</td>\n",
              "      <td>1145.00</td>\n",
              "      <td>416.0</td>\n",
              "      <td>399.0</td>\n",
              "      <td>388.0</td>\n",
              "      <td>395.0</td>\n",
              "      <td>391.0</td>\n",
              "    </tr>\n",
              "    <tr>\n",
              "      <th>3</th>\n",
              "      <td>1. FC Köln</td>\n",
              "      <td>2.0</td>\n",
              "      <td>1466.000000</td>\n",
              "      <td>1291.000000</td>\n",
              "      <td>1518.000000</td>\n",
              "      <td>1783.000000</td>\n",
              "      <td>1247.000000</td>\n",
              "      <td>1623.000000</td>\n",
              "      <td>1425.000000</td>\n",
              "      <td>1272.0</td>\n",
              "      <td>...</td>\n",
              "      <td>1413.0</td>\n",
              "      <td>1731.0</td>\n",
              "      <td>1474.0</td>\n",
              "      <td>1471.00</td>\n",
              "      <td>1378.00</td>\n",
              "      <td>521.0</td>\n",
              "      <td>494.0</td>\n",
              "      <td>541.0</td>\n",
              "      <td>500.0</td>\n",
              "      <td>503.0</td>\n",
              "    </tr>\n",
              "    <tr>\n",
              "      <th>4</th>\n",
              "      <td>1. FC Magdeburg</td>\n",
              "      <td>1.0</td>\n",
              "      <td>1209.000000</td>\n",
              "      <td>1166.000000</td>\n",
              "      <td>1320.000000</td>\n",
              "      <td>1487.000000</td>\n",
              "      <td>962.000000</td>\n",
              "      <td>1335.000000</td>\n",
              "      <td>1112.000000</td>\n",
              "      <td>987.0</td>\n",
              "      <td>...</td>\n",
              "      <td>1206.0</td>\n",
              "      <td>1371.0</td>\n",
              "      <td>1215.0</td>\n",
              "      <td>1207.00</td>\n",
              "      <td>1167.00</td>\n",
              "      <td>406.0</td>\n",
              "      <td>430.0</td>\n",
              "      <td>408.0</td>\n",
              "      <td>406.0</td>\n",
              "      <td>448.0</td>\n",
              "    </tr>\n",
              "    <tr>\n",
              "      <th>...</th>\n",
              "      <td>...</td>\n",
              "      <td>...</td>\n",
              "      <td>...</td>\n",
              "      <td>...</td>\n",
              "      <td>...</td>\n",
              "      <td>...</td>\n",
              "      <td>...</td>\n",
              "      <td>...</td>\n",
              "      <td>...</td>\n",
              "      <td>...</td>\n",
              "      <td>...</td>\n",
              "      <td>...</td>\n",
              "      <td>...</td>\n",
              "      <td>...</td>\n",
              "      <td>...</td>\n",
              "      <td>...</td>\n",
              "      <td>...</td>\n",
              "      <td>...</td>\n",
              "      <td>...</td>\n",
              "      <td>...</td>\n",
              "      <td>...</td>\n",
              "    </tr>\n",
              "    <tr>\n",
              "      <th>647</th>\n",
              "      <td>Zagłębie Sosnowiec</td>\n",
              "      <td>0.0</td>\n",
              "      <td>1161.000000</td>\n",
              "      <td>1007.000000</td>\n",
              "      <td>1152.000000</td>\n",
              "      <td>1357.000000</td>\n",
              "      <td>979.000000</td>\n",
              "      <td>1252.000000</td>\n",
              "      <td>1046.000000</td>\n",
              "      <td>896.0</td>\n",
              "      <td>...</td>\n",
              "      <td>1113.0</td>\n",
              "      <td>1371.0</td>\n",
              "      <td>1219.0</td>\n",
              "      <td>1187.00</td>\n",
              "      <td>1156.00</td>\n",
              "      <td>427.0</td>\n",
              "      <td>391.0</td>\n",
              "      <td>417.0</td>\n",
              "      <td>391.0</td>\n",
              "      <td>413.0</td>\n",
              "    </tr>\n",
              "    <tr>\n",
              "      <th>648</th>\n",
              "      <td>Çaykur Rizespor</td>\n",
              "      <td>2.0</td>\n",
              "      <td>1512.000000</td>\n",
              "      <td>1390.000000</td>\n",
              "      <td>1596.000000</td>\n",
              "      <td>1783.000000</td>\n",
              "      <td>1315.000000</td>\n",
              "      <td>1708.000000</td>\n",
              "      <td>1481.000000</td>\n",
              "      <td>1279.0</td>\n",
              "      <td>...</td>\n",
              "      <td>1511.0</td>\n",
              "      <td>1706.0</td>\n",
              "      <td>1382.0</td>\n",
              "      <td>1501.00</td>\n",
              "      <td>1465.00</td>\n",
              "      <td>514.0</td>\n",
              "      <td>544.0</td>\n",
              "      <td>528.0</td>\n",
              "      <td>536.0</td>\n",
              "      <td>527.0</td>\n",
              "    </tr>\n",
              "    <tr>\n",
              "      <th>649</th>\n",
              "      <td>Örebro SK</td>\n",
              "      <td>0.0</td>\n",
              "      <td>1180.000000</td>\n",
              "      <td>1042.000000</td>\n",
              "      <td>1192.000000</td>\n",
              "      <td>1382.000000</td>\n",
              "      <td>1028.000000</td>\n",
              "      <td>1341.000000</td>\n",
              "      <td>1217.000000</td>\n",
              "      <td>978.0</td>\n",
              "      <td>...</td>\n",
              "      <td>1128.0</td>\n",
              "      <td>1462.0</td>\n",
              "      <td>1170.0</td>\n",
              "      <td>1082.00</td>\n",
              "      <td>1043.00</td>\n",
              "      <td>422.0</td>\n",
              "      <td>419.0</td>\n",
              "      <td>395.0</td>\n",
              "      <td>434.0</td>\n",
              "      <td>423.0</td>\n",
              "    </tr>\n",
              "    <tr>\n",
              "      <th>650</th>\n",
              "      <td>Östersunds FK</td>\n",
              "      <td>0.0</td>\n",
              "      <td>1080.000000</td>\n",
              "      <td>920.510000</td>\n",
              "      <td>1033.750000</td>\n",
              "      <td>1238.000000</td>\n",
              "      <td>918.000000</td>\n",
              "      <td>1207.000000</td>\n",
              "      <td>1092.000000</td>\n",
              "      <td>898.0</td>\n",
              "      <td>...</td>\n",
              "      <td>938.0</td>\n",
              "      <td>1257.0</td>\n",
              "      <td>1035.0</td>\n",
              "      <td>950.14</td>\n",
              "      <td>906.02</td>\n",
              "      <td>365.0</td>\n",
              "      <td>378.0</td>\n",
              "      <td>397.0</td>\n",
              "      <td>357.0</td>\n",
              "      <td>385.0</td>\n",
              "    </tr>\n",
              "    <tr>\n",
              "      <th>651</th>\n",
              "      <td>Śląsk Wrocław</td>\n",
              "      <td>0.0</td>\n",
              "      <td>1107.734181</td>\n",
              "      <td>1099.550911</td>\n",
              "      <td>1341.298144</td>\n",
              "      <td>1371.686712</td>\n",
              "      <td>1030.909026</td>\n",
              "      <td>1293.371001</td>\n",
              "      <td>1028.170824</td>\n",
              "      <td>889.0</td>\n",
              "      <td>...</td>\n",
              "      <td>1150.0</td>\n",
              "      <td>1314.0</td>\n",
              "      <td>1047.0</td>\n",
              "      <td>1161.00</td>\n",
              "      <td>1129.00</td>\n",
              "      <td>408.0</td>\n",
              "      <td>403.0</td>\n",
              "      <td>367.0</td>\n",
              "      <td>394.0</td>\n",
              "      <td>403.0</td>\n",
              "    </tr>\n",
              "  </tbody>\n",
              "</table>\n",
              "<p>652 rows × 36 columns</p>\n",
              "</div>\n",
              "      <button class=\"colab-df-convert\" onclick=\"convertToInteractive('df-d3b14580-8611-46bd-bbea-efc63ad74c18')\"\n",
              "              title=\"Convert this dataframe to an interactive table.\"\n",
              "              style=\"display:none;\">\n",
              "        \n",
              "  <svg xmlns=\"http://www.w3.org/2000/svg\" height=\"24px\"viewBox=\"0 0 24 24\"\n",
              "       width=\"24px\">\n",
              "    <path d=\"M0 0h24v24H0V0z\" fill=\"none\"/>\n",
              "    <path d=\"M18.56 5.44l.94 2.06.94-2.06 2.06-.94-2.06-.94-.94-2.06-.94 2.06-2.06.94zm-11 1L8.5 8.5l.94-2.06 2.06-.94-2.06-.94L8.5 2.5l-.94 2.06-2.06.94zm10 10l.94 2.06.94-2.06 2.06-.94-2.06-.94-.94-2.06-.94 2.06-2.06.94z\"/><path d=\"M17.41 7.96l-1.37-1.37c-.4-.4-.92-.59-1.43-.59-.52 0-1.04.2-1.43.59L10.3 9.45l-7.72 7.72c-.78.78-.78 2.05 0 2.83L4 21.41c.39.39.9.59 1.41.59.51 0 1.02-.2 1.41-.59l7.78-7.78 2.81-2.81c.8-.78.8-2.07 0-2.86zM5.41 20L4 18.59l7.72-7.72 1.47 1.35L5.41 20z\"/>\n",
              "  </svg>\n",
              "      </button>\n",
              "      \n",
              "  <style>\n",
              "    .colab-df-container {\n",
              "      display:flex;\n",
              "      flex-wrap:wrap;\n",
              "      gap: 12px;\n",
              "    }\n",
              "\n",
              "    .colab-df-convert {\n",
              "      background-color: #E8F0FE;\n",
              "      border: none;\n",
              "      border-radius: 50%;\n",
              "      cursor: pointer;\n",
              "      display: none;\n",
              "      fill: #1967D2;\n",
              "      height: 32px;\n",
              "      padding: 0 0 0 0;\n",
              "      width: 32px;\n",
              "    }\n",
              "\n",
              "    .colab-df-convert:hover {\n",
              "      background-color: #E2EBFA;\n",
              "      box-shadow: 0px 1px 2px rgba(60, 64, 67, 0.3), 0px 1px 3px 1px rgba(60, 64, 67, 0.15);\n",
              "      fill: #174EA6;\n",
              "    }\n",
              "\n",
              "    [theme=dark] .colab-df-convert {\n",
              "      background-color: #3B4455;\n",
              "      fill: #D2E3FC;\n",
              "    }\n",
              "\n",
              "    [theme=dark] .colab-df-convert:hover {\n",
              "      background-color: #434B5C;\n",
              "      box-shadow: 0px 1px 3px 1px rgba(0, 0, 0, 0.15);\n",
              "      filter: drop-shadow(0px 1px 2px rgba(0, 0, 0, 0.3));\n",
              "      fill: #FFFFFF;\n",
              "    }\n",
              "  </style>\n",
              "\n",
              "      <script>\n",
              "        const buttonEl =\n",
              "          document.querySelector('#df-d3b14580-8611-46bd-bbea-efc63ad74c18 button.colab-df-convert');\n",
              "        buttonEl.style.display =\n",
              "          google.colab.kernel.accessAllowed ? 'block' : 'none';\n",
              "\n",
              "        async function convertToInteractive(key) {\n",
              "          const element = document.querySelector('#df-d3b14580-8611-46bd-bbea-efc63ad74c18');\n",
              "          const dataTable =\n",
              "            await google.colab.kernel.invokeFunction('convertToInteractive',\n",
              "                                                     [key], {});\n",
              "          if (!dataTable) return;\n",
              "\n",
              "          const docLinkHtml = 'Like what you see? Visit the ' +\n",
              "            '<a target=\"_blank\" href=https://colab.research.google.com/notebooks/data_table.ipynb>data table notebook</a>'\n",
              "            + ' to learn more about interactive tables.';\n",
              "          element.innerHTML = '';\n",
              "          dataTable['output_type'] = 'display_data';\n",
              "          await google.colab.output.renderOutput(dataTable, element);\n",
              "          const docLink = document.createElement('div');\n",
              "          docLink.innerHTML = docLinkHtml;\n",
              "          element.appendChild(docLink);\n",
              "        }\n",
              "      </script>\n",
              "    </div>\n",
              "  </div>\n",
              "  "
            ]
          },
          "metadata": {},
          "execution_count": 13
        }
      ],
      "source": [
        "team"
      ]
    },
    {
      "cell_type": "markdown",
      "metadata": {
        "id": "7onD_p7Ql90x"
      },
      "source": [
        "## K MEANS"
      ]
    },
    {
      "cell_type": "code",
      "execution_count": null,
      "metadata": {
        "colab": {
          "base_uri": "https://localhost:8080/"
        },
        "id": "Xi5SqV7pZK2h",
        "outputId": "9ba2d8d3-32b6-4079-b2a8-00cfe73210eb"
      },
      "outputs": [
        {
          "output_type": "execute_result",
          "data": {
            "text/plain": [
              "array([[1165.25357998, 1077.77116139, 1244.02174863, 1376.12714406,\n",
              "        1007.96768843, 1294.76736965, 1099.76076866,  995.97652174,\n",
              "        1229.44293625, 1368.58247786, 1570.34625   , 1571.87793478,\n",
              "        1534.67076087, 1445.07217391, 1564.02244565, 1294.8373913 ,\n",
              "        1585.28021739, 1537.46961957, 1602.81054348, 1087.99766304,\n",
              "        1329.73369565, 1092.38663043, 1170.58538043, 1254.41070652,\n",
              "        1146.15293478, 1377.25152174, 1103.42695652, 1122.2825    ,\n",
              "        1076.70184783,  407.1148913 ,  401.88581522,  399.35326087,\n",
              "         399.34391304,  410.8175    ],\n",
              "       [1389.06108395, 1270.29582872, 1464.97618809, 1642.95482547,\n",
              "        1194.47435843, 1550.23648777, 1314.79996543, 1197.5013624 ,\n",
              "        1474.67016513, 1632.73776194, 1809.10081744, 1812.35694823,\n",
              "        1779.05449591, 1724.38147139, 1792.4359673 , 1548.01634877,\n",
              "        1824.00817439, 1768.64850136, 1825.30790191, 1314.61035422,\n",
              "        1557.07629428, 1300.25340599, 1392.20980926, 1486.09264305,\n",
              "        1357.01362398, 1630.99182561, 1320.94822888, 1328.50953678,\n",
              "        1273.62942779,  462.89918256,  456.59673025,  452.97787466,\n",
              "         457.96318801,  465.4986376 ],\n",
              "       [1704.51231863, 1552.71436546, 1735.06089109, 1998.12432388,\n",
              "        1479.63870323, 1891.70387129, 1642.15030519, 1460.13673267,\n",
              "        1803.72199934, 1994.49613325, 2051.24475248, 2057.27584158,\n",
              "        2033.87475248, 2097.93930693, 2004.61247525, 1888.38059406,\n",
              "        2059.40465347, 2012.18277228, 2063.66762376, 1627.68039604,\n",
              "        1854.66485149, 1587.56445545, 1700.39891089, 1822.80910891,\n",
              "        1613.40049505, 1999.76663366, 1595.39465347, 1610.21782178,\n",
              "        1528.49653465,  525.12871287,  519.36356436,  507.19089109,\n",
              "         517.19742574,  527.07920792]])"
            ]
          },
          "metadata": {},
          "execution_count": 14
        }
      ],
      "source": [
        "from sklearn.cluster import KMeans\n",
        "kmeans = KMeans(n_clusters=3, random_state=0) \n",
        "kmeans.fit(team.drop(['Club','Overall'],axis=1))\n",
        "kmeans.cluster_centers_"
      ]
    },
    {
      "cell_type": "code",
      "execution_count": null,
      "metadata": {
        "colab": {
          "base_uri": "https://localhost:8080/",
          "height": 588
        },
        "id": "Jt0NElUBk4fo",
        "outputId": "883803d0-7135-4f4e-8a6a-80f6d9e1a7c0"
      },
      "outputs": [
        {
          "output_type": "stream",
          "name": "stderr",
          "text": [
            "/usr/local/lib/python3.8/dist-packages/seaborn/_decorators.py:36: FutureWarning: Pass the following variables as keyword args: x, y. From version 0.12, the only valid positional argument will be `data`, and passing other arguments without an explicit keyword will result in an error or misinterpretation.\n",
            "  warnings.warn(\n",
            "/usr/local/lib/python3.8/dist-packages/seaborn/_decorators.py:36: FutureWarning: Pass the following variables as keyword args: x, y. From version 0.12, the only valid positional argument will be `data`, and passing other arguments without an explicit keyword will result in an error or misinterpretation.\n",
            "  warnings.warn(\n",
            "/usr/local/lib/python3.8/dist-packages/seaborn/_decorators.py:36: FutureWarning: Pass the following variables as keyword args: x, y. From version 0.12, the only valid positional argument will be `data`, and passing other arguments without an explicit keyword will result in an error or misinterpretation.\n",
            "  warnings.warn(\n"
          ]
        },
        {
          "output_type": "display_data",
          "data": {
            "text/plain": [
              "<Figure size 1080x504 with 1 Axes>"
            ],
            "image/png": "[encoded data removed]"
          },
          "metadata": {}
        }
      ],
      "source": [
        "``\n",
        "y_kmeans = kmeans.fit_predict(team.drop(['Club','Overall'],axis=1))\n",
        "X = np.array(team.drop(['Club','Overall'],axis=1))\n",
        "\n",
        "\n",
        "plt.figure(figsize=(15,7))\n",
        "\n",
        "# visualizing the clusters\n",
        "sns.scatterplot(X[y_kmeans == 0, 1], X[y_kmeans == 0, 2], color = 'yellow', label = 'Cluster 1',s=50)\n",
        "sns.scatterplot(X[y_kmeans == 1, 1], X[y_kmeans == 1, 2], color = 'blue', label = 'Cluster 2',s=50)\n",
        "sns.scatterplot(X[y_kmeans == 2, 1], X[y_kmeans == 2, 2], color = 'red', label = 'Cluster 3,',s=50)\n",
        "\n",
        "##sns.scatterplot(kmeans.cluster_centers_[1:3, 0], kmeans.cluster_centers_[1:3, 1],kmeans.cluster_centers_[1:3,2], color = 'red', \n",
        "                #label = 'Centroids',s=300,marker=',')\n",
        "\n",
        "\n",
        "plt.title('two clusters')\n",
        "plt.xlabel('Second column')\n",
        "plt.ylabel('one column')\n",
        "plt.legend()\n",
        "plt.show()"
      ]
    },
    {
      "cell_type": "code",
      "execution_count": null,
      "metadata": {
        "colab": {
          "base_uri": "https://localhost:8080/"
        },
        "id": "qrLsaarnzszh",
        "outputId": "66566784-ff06-42be-d537-4988896dfd8d"
      },
      "outputs": [
        {
          "output_type": "stream",
          "name": "stdout",
          "text": [
            "accuracy 84.50920245398773\n"
          ]
        }
      ],
      "source": [
        "count=0\n",
        "temp=team.Overall.values\n",
        "for i in range(len(y_kmeans)):\n",
        "  if(temp[i]==y_kmeans[i]):\n",
        "    pass\n",
        "  else:\n",
        "    count+=1\n",
        "print(\"accuracy\",100-(count*100/len(y_kmeans)))"
      ]
    },
    {
      "cell_type": "markdown",
      "metadata": {
        "id": "Inc6fka_mCTc"
      },
      "source": [
        "## PCA"
      ]
    },
    {
      "cell_type": "code",
      "execution_count": null,
      "metadata": {
        "id": "tiqH1QXCo5bc"
      },
      "outputs": [],
      "source": [
        "\n",
        "from sklearn.decomposition import PCA\n",
        "from sklearn.preprocessing import StandardScaler\n"
      ]
    },
    {
      "cell_type": "code",
      "execution_count": null,
      "metadata": {
        "colab": {
          "base_uri": "https://localhost:8080/"
        },
        "id": "vm0CB2XBjmPR",
        "outputId": "c2eebb9c-a315-4aa0-c335-856e0035a8b1"
      },
      "outputs": [
        {
          "output_type": "stream",
          "name": "stdout",
          "text": [
            "(652, 34)\n"
          ]
        }
      ],
      "source": [
        "# construct a dataframe using pandas\n",
        "df1=team.drop(['Club','Overall'],axis=1);\n",
        "\n",
        "# Scale data before applying PCA\n",
        "scaling=StandardScaler()\n",
        "\n",
        "# Use fit and transform method\n",
        "scaling.fit(df1)\n",
        "Scaled_data=scaling.transform(df1)\n",
        "\n",
        "\n",
        "principal=PCA()\n",
        "principal.fit(Scaled_data)\n",
        "x=principal.transform(Scaled_data)\n",
        "\n",
        "# Check the dimensions of data after PCA\n",
        "print(x.shape)\n"
      ]
    },
    {
      "cell_type": "code",
      "execution_count": null,
      "metadata": {
        "colab": {
          "base_uri": "https://localhost:8080/",
          "height": 513
        },
        "id": "R-y3NYdYpSXv",
        "outputId": "0837b8be-c63a-480d-9149-a27d4089f629"
      },
      "outputs": [
        {
          "output_type": "stream",
          "name": "stdout",
          "text": [
            "[[ 1.79184014e-01  1.77691912e-01  1.76721708e-01 ...  1.43426491e-01\n",
            "   1.49665806e-01  1.46534891e-01]\n",
            " [-1.04538622e-01 -8.70764532e-02 -6.93322876e-02 ...  4.02937300e-01\n",
            "   3.82976478e-01  3.92995180e-01]\n",
            " [-9.57457143e-02 -3.86602275e-02  3.12482170e-03 ... -1.32779124e-01\n",
            "  -1.46024141e-01 -1.74444952e-01]\n",
            " ...\n",
            " [ 6.31008631e-02 -2.00754969e-02 -2.07561810e-02 ... -1.50120959e-04\n",
            "   1.42237841e-02  1.93829807e-02]\n",
            " [ 3.44177633e-02  1.38253733e-02  5.14888849e-02 ... -1.67789976e-03\n",
            "  -2.81710000e-02 -5.37975775e-03]\n",
            " [ 9.06159816e-03  2.31057280e-02  4.47402613e-03 ... -9.57614873e-03\n",
            "   1.27461673e-02 -1.97192512e-03]]\n"
          ]
        },
        {
          "output_type": "execute_result",
          "data": {
            "text/plain": [
              "[<matplotlib.lines.Line2D at 0x7f3da8367d60>]"
            ]
          },
          "metadata": {},
          "execution_count": 44
        },
        {
          "output_type": "display_data",
          "data": {
            "text/plain": [
              "<Figure size 432x288 with 1 Axes>"
            ],
            "image/png": "[encoded data removed]"
          },
          "metadata": {}
        }
      ],
      "source": [
        "x = principal.components_\n",
        "print(x)\n",
        "plt.plot(principal.explained_variance_)"
      ]
    },
    {
      "cell_type": "code",
      "source": [
        "fig, ax = plt.subplots()\n",
        "grouped = team.groupby('Overall')\n",
        "for key, group in grouped:\n",
        "    group.plot(ax=ax, kind='scatter', x=x[0], y=x[1],  label=ke)\n",
        "plt.show()"
      ],
      "metadata": {
        "id": "dt76QSVmdvd5"
      },
      "execution_count": null,
      "outputs": []
    },
    {
      "cell_type": "code",
      "source": [
        "new_data=principal.transform(team.drop(['Club','Overall'],axis=1))\n",
        "new_data"
      ],
      "metadata": {
        "colab": {
          "base_uri": "https://localhost:8080/"
        },
        "id": "UP948zVR7AYF",
        "outputId": "d640efaf-2b30-41ad-e833-5c833afe627a"
      },
      "execution_count": null,
      "outputs": [
        {
          "output_type": "stream",
          "name": "stderr",
          "text": [
            "/usr/local/lib/python3.8/dist-packages/sklearn/base.py:443: UserWarning: X has feature names, but PCA was fitted without feature names\n",
            "  warnings.warn(\n"
          ]
        },
        {
          "output_type": "execute_result",
          "data": {
            "text/plain": [
              "array([[ 8045.7241801 , -1158.79535489],\n",
              "       [ 7879.74905403, -1149.49804268],\n",
              "       [ 7123.4779884 , -1044.29019395],\n",
              "       ...,\n",
              "       [ 7066.71739201,  -865.54649162],\n",
              "       [ 6206.30408493,  -846.94489268],\n",
              "       [ 6695.87597488,  -947.43669371]])"
            ]
          },
          "metadata": {},
          "execution_count": 37
        }
      ]
    },
    {
      "cell_type": "code",
      "source": [
        "fig, ax = plt.subplots()\n",
        "grouped = team.groupby('Overall')\n",
        "plt.plot(ax=ax, kind='scatter', x=new_data[0], y=new_data[1])\n",
        "plt.show()"
      ],
      "metadata": {
        "colab": {
          "base_uri": "https://localhost:8080/",
          "height": 618
        },
        "id": "t3p_bziDeu_R",
        "outputId": "3785314c-fe32-496b-e512-5092e1f2f7f7"
      },
      "execution_count": null,
      "outputs": [
        {
          "output_type": "error",
          "ename": "TypeError",
          "evalue": "ignored",
          "traceback": [
            "\u001b[0;31m---------------------------------------------------------------------------\u001b[0m",
            "\u001b[0;31mTypeError\u001b[0m                                 Traceback (most recent call last)",
            "\u001b[0;32m<ipython-input-39-5933c5c6f4ca>\u001b[0m in \u001b[0;36m<module>\u001b[0;34m\u001b[0m\n\u001b[1;32m      1\u001b[0m \u001b[0mfig\u001b[0m\u001b[0;34m,\u001b[0m \u001b[0max\u001b[0m \u001b[0;34m=\u001b[0m \u001b[0mplt\u001b[0m\u001b[0;34m.\u001b[0m\u001b[0msubplots\u001b[0m\u001b[0;34m(\u001b[0m\u001b[0;34m)\u001b[0m\u001b[0;34m\u001b[0m\u001b[0;34m\u001b[0m\u001b[0m\n\u001b[1;32m      2\u001b[0m \u001b[0mgrouped\u001b[0m \u001b[0;34m=\u001b[0m \u001b[0mteam\u001b[0m\u001b[0;34m.\u001b[0m\u001b[0mgroupby\u001b[0m\u001b[0;34m(\u001b[0m\u001b[0;34m'Overall'\u001b[0m\u001b[0;34m)\u001b[0m\u001b[0;34m\u001b[0m\u001b[0;34m\u001b[0m\u001b[0m\n\u001b[0;32m----> 3\u001b[0;31m \u001b[0mplt\u001b[0m\u001b[0;34m.\u001b[0m\u001b[0mplot\u001b[0m\u001b[0;34m(\u001b[0m\u001b[0max\u001b[0m\u001b[0;34m=\u001b[0m\u001b[0max\u001b[0m\u001b[0;34m,\u001b[0m \u001b[0mkind\u001b[0m\u001b[0;34m=\u001b[0m\u001b[0;34m'scatter'\u001b[0m\u001b[0;34m,\u001b[0m \u001b[0mx\u001b[0m\u001b[0;34m=\u001b[0m\u001b[0mnew_data\u001b[0m\u001b[0;34m[\u001b[0m\u001b[0;36m0\u001b[0m\u001b[0;34m]\u001b[0m\u001b[0;34m,\u001b[0m \u001b[0my\u001b[0m\u001b[0;34m=\u001b[0m\u001b[0mnew_data\u001b[0m\u001b[0;34m[\u001b[0m\u001b[0;36m1\u001b[0m\u001b[0;34m]\u001b[0m\u001b[0;34m)\u001b[0m\u001b[0;34m\u001b[0m\u001b[0;34m\u001b[0m\u001b[0m\n\u001b[0m\u001b[1;32m      4\u001b[0m \u001b[0mplt\u001b[0m\u001b[0;34m.\u001b[0m\u001b[0mshow\u001b[0m\u001b[0;34m(\u001b[0m\u001b[0;34m)\u001b[0m\u001b[0;34m\u001b[0m\u001b[0;34m\u001b[0m\u001b[0m\n",
            "\u001b[0;32m/usr/local/lib/python3.8/dist-packages/matplotlib/pyplot.py\u001b[0m in \u001b[0;36mplot\u001b[0;34m(scalex, scaley, data, *args, **kwargs)\u001b[0m\n\u001b[1;32m   2759\u001b[0m \u001b[0;34m@\u001b[0m\u001b[0mdocstring\u001b[0m\u001b[0;34m.\u001b[0m\u001b[0mcopy\u001b[0m\u001b[0;34m(\u001b[0m\u001b[0mAxes\u001b[0m\u001b[0;34m.\u001b[0m\u001b[0mplot\u001b[0m\u001b[0;34m)\u001b[0m\u001b[0;34m\u001b[0m\u001b[0;34m\u001b[0m\u001b[0m\n\u001b[1;32m   2760\u001b[0m \u001b[0;32mdef\u001b[0m \u001b[0mplot\u001b[0m\u001b[0;34m(\u001b[0m\u001b[0;34m*\u001b[0m\u001b[0margs\u001b[0m\u001b[0;34m,\u001b[0m \u001b[0mscalex\u001b[0m\u001b[0;34m=\u001b[0m\u001b[0;32mTrue\u001b[0m\u001b[0;34m,\u001b[0m \u001b[0mscaley\u001b[0m\u001b[0;34m=\u001b[0m\u001b[0;32mTrue\u001b[0m\u001b[0;34m,\u001b[0m \u001b[0mdata\u001b[0m\u001b[0;34m=\u001b[0m\u001b[0;32mNone\u001b[0m\u001b[0;34m,\u001b[0m \u001b[0;34m**\u001b[0m\u001b[0mkwargs\u001b[0m\u001b[0;34m)\u001b[0m\u001b[0;34m:\u001b[0m\u001b[0;34m\u001b[0m\u001b[0;34m\u001b[0m\u001b[0m\n\u001b[0;32m-> 2761\u001b[0;31m     return gca().plot(\n\u001b[0m\u001b[1;32m   2762\u001b[0m         *args, scalex=scalex, scaley=scaley, **({\"data\": data} if data\n\u001b[1;32m   2763\u001b[0m         is not None else {}), **kwargs)\n",
            "\u001b[0;32m/usr/local/lib/python3.8/dist-packages/matplotlib/axes/_axes.py\u001b[0m in \u001b[0;36mplot\u001b[0;34m(self, scalex, scaley, data, *args, **kwargs)\u001b[0m\n\u001b[1;32m   1645\u001b[0m         \"\"\"\n\u001b[1;32m   1646\u001b[0m         \u001b[0mkwargs\u001b[0m \u001b[0;34m=\u001b[0m \u001b[0mcbook\u001b[0m\u001b[0;34m.\u001b[0m\u001b[0mnormalize_kwargs\u001b[0m\u001b[0;34m(\u001b[0m\u001b[0mkwargs\u001b[0m\u001b[0;34m,\u001b[0m \u001b[0mmlines\u001b[0m\u001b[0;34m.\u001b[0m\u001b[0mLine2D\u001b[0m\u001b[0;34m)\u001b[0m\u001b[0;34m\u001b[0m\u001b[0;34m\u001b[0m\u001b[0m\n\u001b[0;32m-> 1647\u001b[0;31m         \u001b[0mlines\u001b[0m \u001b[0;34m=\u001b[0m \u001b[0;34m[\u001b[0m\u001b[0;34m*\u001b[0m\u001b[0mself\u001b[0m\u001b[0;34m.\u001b[0m\u001b[0m_get_lines\u001b[0m\u001b[0;34m(\u001b[0m\u001b[0;34m*\u001b[0m\u001b[0margs\u001b[0m\u001b[0;34m,\u001b[0m \u001b[0mdata\u001b[0m\u001b[0;34m=\u001b[0m\u001b[0mdata\u001b[0m\u001b[0;34m,\u001b[0m \u001b[0;34m**\u001b[0m\u001b[0mkwargs\u001b[0m\u001b[0;34m)\u001b[0m\u001b[0;34m]\u001b[0m\u001b[0;34m\u001b[0m\u001b[0;34m\u001b[0m\u001b[0m\n\u001b[0m\u001b[1;32m   1648\u001b[0m         \u001b[0;32mfor\u001b[0m \u001b[0mline\u001b[0m \u001b[0;32min\u001b[0m \u001b[0mlines\u001b[0m\u001b[0;34m:\u001b[0m\u001b[0;34m\u001b[0m\u001b[0;34m\u001b[0m\u001b[0m\n\u001b[1;32m   1649\u001b[0m             \u001b[0mself\u001b[0m\u001b[0;34m.\u001b[0m\u001b[0madd_line\u001b[0m\u001b[0;34m(\u001b[0m\u001b[0mline\u001b[0m\u001b[0;34m)\u001b[0m\u001b[0;34m\u001b[0m\u001b[0;34m\u001b[0m\u001b[0m\n",
            "\u001b[0;32m/usr/local/lib/python3.8/dist-packages/matplotlib/axes/_base.py\u001b[0m in \u001b[0;36m__call__\u001b[0;34m(self, *args, **kwargs)\u001b[0m\n\u001b[1;32m    156\u001b[0m         \u001b[0;32mfor\u001b[0m \u001b[0mpos_only\u001b[0m \u001b[0;32min\u001b[0m \u001b[0;34m\"xy\"\u001b[0m\u001b[0;34m:\u001b[0m\u001b[0;34m\u001b[0m\u001b[0;34m\u001b[0m\u001b[0m\n\u001b[1;32m    157\u001b[0m             \u001b[0;32mif\u001b[0m \u001b[0mpos_only\u001b[0m \u001b[0;32min\u001b[0m \u001b[0mkwargs\u001b[0m\u001b[0;34m:\u001b[0m\u001b[0;34m\u001b[0m\u001b[0;34m\u001b[0m\u001b[0m\n\u001b[0;32m--> 158\u001b[0;31m                 raise TypeError(\"{} got an unexpected keyword argument {!r}\"\n\u001b[0m\u001b[1;32m    159\u001b[0m                                 .format(self.command, pos_only))\n\u001b[1;32m    160\u001b[0m \u001b[0;34m\u001b[0m\u001b[0m\n",
            "\u001b[0;31mTypeError\u001b[0m: plot got an unexpected keyword argument 'x'"
          ]
        },
        {
          "output_type": "display_data",
          "data": {
            "text/plain": [
              "<Figure size 432x288 with 1 Axes>"
            ],
            "image/png": "[encoded data removed]"
          },
          "metadata": {}
        }
      ]
    },
    {
      "cell_type": "code",
      "source": [
        "from sklearn.model_selection import GridSearchCV\n",
        "df1=team.drop(['Club','Overall'],axis=1);\n",
        "\n",
        "# Scale data before applying PCA\n",
        "scaling=StandardScaler()\n",
        "\n",
        "# Use fit and transform method\n",
        "scaling.fit(df1)\n",
        "Scaled_data=scaling.transform(df1)\n",
        "c_space = np.arange(15, 30)\n",
        "param_grid = {'n_components': c_space}\n",
        "\n",
        "\n",
        "principal=PCA()\n",
        "x= GridSearchCV(principal, param_grid)\n",
        "x.fit(Scaled_data)\n",
        "k=x.transform(Scaled_data)\n",
        "\n",
        "# Check the dimensions of data after PCA\n",
        "print(k.shape)"
      ],
      "metadata": {
        "colab": {
          "base_uri": "https://localhost:8080/"
        },
        "id": "SsyH1l6k9Xum",
        "outputId": "7bb3869a-1e75-4fdb-d67e-efe166cd0508"
      },
      "execution_count": null,
      "outputs": [
        {
          "output_type": "stream",
          "name": "stdout",
          "text": [
            "(652, 28)\n"
          ]
        }
      ]
    },
    {
      "cell_type": "markdown",
      "metadata": {
        "id": "aSEB49xlNaHY"
      },
      "source": [
        "## Cluster Visualization"
      ]
    },
    {
      "cell_type": "code",
      "execution_count": null,
      "metadata": {
        "colab": {
          "base_uri": "https://localhost:8080/",
          "height": 285
        },
        "id": "sZbJkUSskjQj",
        "outputId": "570c56c4-6cc6-4517-9d0c-8251df829748"
      },
      "outputs": [
        {
          "output_type": "display_data",
          "data": {
            "text/plain": [
              "<Figure size 432x288 with 1 Axes>"
            ],
            "image/png": "[encoded data removed]"
          },
          "metadata": {}
        }
      ],
      "source": [
        "colors = {0:'red', 1:'blue', 2:'green'}\n",
        "fig, ax = plt.subplots()\n",
        "grouped = team.groupby('Overall')\n",
        "for key, group in grouped:\n",
        "    group.plot(ax=ax, kind='scatter', x='Crossing', y='Finishing',  label=key, color=colors[key])\n",
        "plt.show()"
      ]
    },
    {
      "cell_type": "code",
      "execution_count": null,
      "metadata": {
        "colab": {
          "base_uri": "https://localhost:8080/",
          "height": 285
        },
        "id": "lMLnCdPQOHfZ",
        "outputId": "3182814f-ebed-464f-a397-9638310ed529"
      },
      "outputs": [
        {
          "output_type": "display_data",
          "data": {
            "text/plain": [
              "<Figure size 432x288 with 1 Axes>"
            ],
            "image/png": "[encoded data removed]"
          },
          "metadata": {}
        }
      ],
      "source": [
        "colors = {0:'red', 1:'blue', 2:'green'}\n",
        "fig, ax = plt.subplots()\n",
        "grouped = team.groupby('Overall')\n",
        "for key, group in grouped:\n",
        "    group.plot(ax=ax, kind='scatter', x='HeadingAccuracy', y='ShortPassing',  label=key, color=colors[key])\n",
        "plt.show()"
      ]
    },
    {
      "cell_type": "code",
      "execution_count": null,
      "metadata": {
        "colab": {
          "base_uri": "https://localhost:8080/",
          "height": 285
        },
        "id": "605i7gq-ONcH",
        "outputId": "3bed775c-616f-4ab8-8e92-acf04ca84215"
      },
      "outputs": [
        {
          "output_type": "display_data",
          "data": {
            "text/plain": [
              "<Figure size 432x288 with 1 Axes>"
            ],
            "image/png": "[encoded data removed]"
          },
          "metadata": {}
        }
      ],
      "source": [
        "colors = {0:'red', 1:'blue', 2:'green'}\n",
        "fig, ax = plt.subplots()\n",
        "grouped = team.groupby('Overall')\n",
        "for key, group in grouped:\n",
        "    group.plot(ax=ax, kind='scatter', x='Volleys', y='Dribbling',  label=key, color=colors[key])\n",
        "plt.show()"
      ]
    },
    {
      "cell_type": "markdown",
      "metadata": {
        "id": "58ntGFoPmlE1"
      },
      "source": [
        "## Hyper Tuning"
      ]
    },
    {
      "cell_type": "code",
      "execution_count": null,
      "metadata": {
        "id": "DNzf2EsGrXc-"
      },
      "outputs": [],
      "source": [
        "input = team[['Crossing','Finishing','HeadingAccuracy','ShortPassing','Volleys','Dribbling','Curve','FKAccuracy','LongPassing','BallControl','Acceleration','SprintSpeed','Agility','Reactions','Balance','ShotPower','Jumping','Stamina','Strength','LongShots','Aggression','Interceptions','Positioning','Vision','Penalties','Composure','Marking','StandingTackle','SlidingTackle','GKDiving','GKHandling','GKKicking','GKPositioning','GKReflexes']]"
      ]
    },
    {
      "cell_type": "code",
      "source": [
        "x=input.values\n",
        "y=team.Overall.values"
      ],
      "metadata": {
        "id": "6RUvOjDYpbP2"
      },
      "execution_count": null,
      "outputs": []
    },
    {
      "cell_type": "code",
      "source": [
        "from sklearn.model_selection import train_test_split\n",
        "X_train, X_test, y_train, y_test = train_test_split(x, y, test_size=0.33, random_state=42)"
      ],
      "metadata": {
        "id": "2OTgzZ7jvLSL"
      },
      "execution_count": null,
      "outputs": []
    },
    {
      "cell_type": "code",
      "source": [
        "from sklearn.neural_network import MLPClassifier\n",
        "\n",
        "# Use \"for loop\" to get accuracies for your set\n",
        "activation = 'identity'\n",
        "print(activation)\n",
        "\n",
        "for i in [10, 50, 100, 300]:\n",
        "  hidden_layer_size = i\n",
        "  clf = MLPClassifier(hidden_layer_sizes=(hidden_layer_size,), activation=activation, random_state=1)\n",
        "  clf.fit(X_train, y_train)\n",
        "  print(hidden_layer_size,\"score:\")\n",
        "  print(clf.score(X_test, y_test))"
      ],
      "metadata": {
        "colab": {
          "base_uri": "https://localhost:8080/"
        },
        "id": "kZ0hs3ZhvOdS",
        "outputId": "7b0ccb10-7fc0-4858-9d92-c2b6de20270a"
      },
      "execution_count": null,
      "outputs": [
        {
          "output_type": "stream",
          "name": "stdout",
          "text": [
            "identity\n",
            "10 score:\n",
            "0.25462962962962965\n",
            "50 score:\n",
            "0.4537037037037037\n",
            "100 score:\n",
            "0.4722222222222222\n",
            "300 score:\n",
            "0.5092592592592593\n"
          ]
        }
      ]
    },
    {
      "cell_type": "code",
      "source": [
        "activation = 'logistic'\n",
        "print(activation)\n",
        "\n",
        "for i in [10, 50, 100, 300]:\n",
        "  hidden_layer_size = i\n",
        "  clf = MLPClassifier(hidden_layer_sizes=(hidden_layer_size,), activation=activation, random_state=1)\n",
        "  clf.fit(X_train, y_train)\n",
        "  print(hidden_layer_size,\"score:\")\n",
        "  print(clf.score(X_test, y_test))"
      ],
      "metadata": {
        "colab": {
          "base_uri": "https://localhost:8080/"
        },
        "id": "vD_R6e3Qv-aq",
        "outputId": "25021ec0-5118-42d9-9001-975fb79dba7d"
      },
      "execution_count": null,
      "outputs": [
        {
          "output_type": "stream",
          "name": "stdout",
          "text": [
            "logistic\n",
            "10 score:\n",
            "0.44907407407407407\n",
            "50 score:\n",
            "0.44907407407407407\n",
            "100 score:\n",
            "0.44907407407407407\n",
            "300 score:\n",
            "0.44907407407407407\n"
          ]
        }
      ]
    },
    {
      "cell_type": "code",
      "source": [
        "activation = 'tanh'\n",
        "print(activation)\n",
        "\n",
        "for i in [10, 50, 100, 300]:\n",
        "  hidden_layer_size = i\n",
        "  clf = MLPClassifier(hidden_layer_sizes=(hidden_layer_size,), activation=activation, random_state=1)\n",
        "  clf.fit(X_train, y_train)\n",
        "  print(hidden_layer_size,\"score:\")\n",
        "  print(clf.score(X_test, y_test))"
      ],
      "metadata": {
        "colab": {
          "base_uri": "https://localhost:8080/"
        },
        "id": "AlexPbmJwNtm",
        "outputId": "41ba95a7-c1f2-4145-d5b4-9f0f9dc407b9"
      },
      "execution_count": null,
      "outputs": [
        {
          "output_type": "stream",
          "name": "stdout",
          "text": [
            "tanh\n",
            "10 score:\n",
            "0.44907407407407407\n",
            "50 score:\n",
            "0.44907407407407407\n",
            "100 score:\n",
            "0.44907407407407407\n",
            "300 score:\n",
            "0.44907407407407407\n"
          ]
        }
      ]
    },
    {
      "cell_type": "code",
      "source": [
        "activation = 'relu'\n",
        "print(activation)\n",
        "\n",
        "for i in [10, 50, 100, 300]:\n",
        "  hidden_layer_size = i\n",
        "  clf = MLPClassifier(hidden_layer_sizes=(hidden_layer_size,), activation=activation, random_state=1)\n",
        "  clf.fit(X_train, y_train)\n",
        "  print(hidden_layer_size,\"score:\")\n",
        "  print(clf.score(X_test, y_test))"
      ],
      "metadata": {
        "colab": {
          "base_uri": "https://localhost:8080/"
        },
        "id": "p0kefwVmx-8T",
        "outputId": "08c995ab-32ac-4b7b-a7c5-2443a55f0560"
      },
      "execution_count": null,
      "outputs": [
        {
          "output_type": "stream",
          "name": "stdout",
          "text": [
            "relu\n",
            "10 score:\n",
            "0.25925925925925924\n",
            "50 score:\n",
            "0.35648148148148145\n",
            "100 score:\n",
            "0.5092592592592593\n",
            "300 score:\n",
            "0.38425925925925924\n"
          ]
        }
      ]
    },
    {
      "cell_type": "code",
      "source": [
        "import numpy as np\n",
        "import seaborn as sns\n",
        "\n",
        "# Replace the dummy values below with yours. 0 for the sets that you didn't run\n",
        "accuracies = [\n",
        "              [0.25462962962962965,0.4537037037037037,0.4722222222222222,0.5092592592592593],\n",
        "              [0.44907407407407407,0.44907407407407407,0.44907407407407407,0.44907407407407407],\n",
        "              [0.44907407407407407,0.44907407407407407,0.44907407407407407,0.44907407407407407],\n",
        "              [0.25925925925925924,0.35648148148148145,0.5092592592592593,0.38425925925925924]\n",
        "             ]\n",
        "\n",
        "# ignore - plotting code\n",
        "xticklabels = [10, 50, 100, 300]\n",
        "y_ticklabels = [\"identity\", \"logistic\",\"tanh\",\"relu\"]\n",
        "accuracies = np.array(accuracies)\n",
        "ax = sns.heatmap(accuracies, linewidths=.5, square=True, xticklabels=xticklabels, yticklabels=y_ticklabels)"
      ],
      "metadata": {
        "colab": {
          "base_uri": "https://localhost:8080/",
          "height": 268
        },
        "id": "BVOtTmUavnjr",
        "outputId": "e534f595-a2f1-4672-cf88-aa452c69ec39"
      },
      "execution_count": null,
      "outputs": [
        {
          "output_type": "display_data",
          "data": {
            "text/plain": [
              "<Figure size 432x288 with 2 Axes>"
            ],
            "image/png": "[encoded data removed]"
          },
          "metadata": {}
        }
      ]
    },
    {
      "cell_type": "markdown",
      "source": [
        "we find that tanh activation model with 100 hidden layers shows best accuracy than other results of models"
      ],
      "metadata": {
        "id": "EbzWfXjLKu42"
      }
    },
    {
      "cell_type": "markdown",
      "metadata": {
        "id": "11OSSNuIPXsw"
      },
      "source": [
        "## Neural Networks"
      ]
    },
    {
      "cell_type": "markdown",
      "metadata": {
        "id": "N5UT4X_vr6h_"
      },
      "source": [
        "\n",
        "\n",
        "1. Import the libraries. For example: import numpy as np\n",
        "2. Define/create input data. For example, use numpy to create a dataset and an array of data values.\n",
        "3. Add weights and bias (if applicable) to input features. These are learnable parameters, meaning that they can be adjusted during training.\n",
        "Weights = input parameters that influences output\n",
        "Bias = an extra threshold value added to the output\n",
        "4. Train the network against known, good data in order to find the correct values for the weights and biases.\n",
        "5. Test the Network against a set of test data to see how it performs. \n",
        "6. Fit the model with hyperparameters (parameters whose values are used to control the learning process), calculate accuracy, and make a prediction.\n",
        "\n"
      ]
    },
    {
      "cell_type": "code",
      "source": [
        "from keras.models import Sequential\n",
        "from keras.layers import Dense, Activation\n",
        "import numpy as np\n",
        "model = Sequential()\n",
        "model.add(Dense(68, activation='tanh', input_dim=34))\n",
        "model.add(Dense(100, activation='tanh'))\n",
        "model.add(Dense(25, activation='tanh'))\n",
        "model.add(Dense(1, activation='sigmoid'))\n",
        "\n",
        "# Compile the model\n",
        "model.compile(loss='binary_crossentropy', optimizer='adam', metrics=['accuracy'])\n",
        "\n",
        "# Fit the model to the training data\n",
        "model.fit(X_train, y_train, epochs=5, batch_size=10)\n",
        "\n",
        "# Evaluate the model on the test data\n",
        "loss, accuracy = model.evaluate(X_test, y_test)"
      ],
      "metadata": {
        "colab": {
          "base_uri": "https://localhost:8080/"
        },
        "id": "ZWVQT99wvKrs",
        "outputId": "10d8f2dd-1f28-4c46-8d66-22bf65df4c7c"
      },
      "execution_count": null,
      "outputs": [
        {
          "output_type": "stream",
          "name": "stdout",
          "text": [
            "Epoch 1/5\n",
            "59/59 [==============================] - 1s 2ms/step - loss: -0.7151 - accuracy: 0.5307\n",
            "Epoch 2/5\n",
            "59/59 [==============================] - 0s 2ms/step - loss: -1.6847 - accuracy: 0.6809\n",
            "Epoch 3/5\n",
            "59/59 [==============================] - 0s 2ms/step - loss: -2.1839 - accuracy: 0.6997\n",
            "Epoch 4/5\n",
            "59/59 [==============================] - 0s 2ms/step - loss: -2.6247 - accuracy: 0.7099\n",
            "Epoch 5/5\n",
            "59/59 [==============================] - 0s 2ms/step - loss: -2.9889 - accuracy: 0.7099\n",
            "3/3 [==============================] - 0s 4ms/step - loss: -2.7954 - accuracy: 0.7424\n"
          ]
        }
      ]
    },
    {
      "cell_type": "code",
      "source": [
        "model.summary()"
      ],
      "metadata": {
        "colab": {
          "base_uri": "https://localhost:8080/"
        },
        "id": "xvasxSWd3d4C",
        "outputId": "03799759-960e-4052-90a2-cd40f2a09cd0"
      },
      "execution_count": null,
      "outputs": [
        {
          "output_type": "stream",
          "name": "stdout",
          "text": [
            "Model: \"sequential_88\"\n",
            "_________________________________________________________________\n",
            " Layer (type)                Output Shape              Param #   \n",
            "=================================================================\n",
            " dense_332 (Dense)           (None, 68)                2380      \n",
            "                                                                 \n",
            " dense_333 (Dense)           (None, 100)               6900      \n",
            "                                                                 \n",
            " dense_334 (Dense)           (None, 25)                2525      \n",
            "                                                                 \n",
            " dense_335 (Dense)           (None, 1)                 26        \n",
            "                                                                 \n",
            "=================================================================\n",
            "Total params: 11,831\n",
            "Trainable params: 11,831\n",
            "Non-trainable params: 0\n",
            "_________________________________________________________________\n"
          ]
        }
      ]
    },
    {
      "cell_type": "code",
      "source": [
        "y_pred = model.predict(X_test)\n",
        "#Converting predictions to label\n",
        "pred = list()\n",
        "for i in range(len(y_pred)):\n",
        "    pred.append(np.argmax(y_pred[i]))\n",
        "#Converting one hot encoded test label to label\n",
        "test = list()\n",
        "for i in range(len(y_test)):\n",
        "    test.append(np.argmax(y_test[i]))"
      ],
      "metadata": {
        "colab": {
          "base_uri": "https://localhost:8080/"
        },
        "id": "EPBD4x1nFiAe",
        "outputId": "1a2b408a-74ed-40ca-d907-b874a7130f00"
      },
      "execution_count": null,
      "outputs": [
        {
          "output_type": "stream",
          "name": "stdout",
          "text": [
            "3/3 [==============================] - 0s 3ms/step\n"
          ]
        }
      ]
    },
    {
      "cell_type": "code",
      "source": [
        "history = model.fit(X_train, y_train,validation_data = (X_test,y_test), epochs=100, batch_size=64)"
      ],
      "metadata": {
        "colab": {
          "base_uri": "https://localhost:8080/"
        },
        "id": "aJk55Wv9GGG_",
        "outputId": "97c1ab8e-f54d-4d92-f976-c8cd38e9805f"
      },
      "execution_count": null,
      "outputs": [
        {
          "output_type": "stream",
          "name": "stdout",
          "text": [
            "Epoch 1/100\n",
            "10/10 [==============================] - 0s 30ms/step - loss: -3.2173 - accuracy: 0.7133 - val_loss: -2.9005 - val_accuracy: 0.7424\n",
            "Epoch 2/100\n",
            "10/10 [==============================] - 0s 11ms/step - loss: -3.2974 - accuracy: 0.7201 - val_loss: -2.9560 - val_accuracy: 0.7424\n",
            "Epoch 3/100\n",
            "10/10 [==============================] - 0s 12ms/step - loss: -3.3784 - accuracy: 0.7270 - val_loss: -2.9943 - val_accuracy: 0.7424\n",
            "Epoch 4/100\n",
            "10/10 [==============================] - 0s 5ms/step - loss: -3.4376 - accuracy: 0.7270 - val_loss: -3.0642 - val_accuracy: 0.7424\n",
            "Epoch 5/100\n",
            "10/10 [==============================] - 0s 5ms/step - loss: -3.4863 - accuracy: 0.7201 - val_loss: -3.1297 - val_accuracy: 0.7424\n",
            "Epoch 6/100\n",
            "10/10 [==============================] - 0s 5ms/step - loss: -3.5176 - accuracy: 0.7133 - val_loss: -3.1816 - val_accuracy: 0.7424\n",
            "Epoch 7/100\n",
            "10/10 [==============================] - 0s 4ms/step - loss: -3.6082 - accuracy: 0.7201 - val_loss: -3.2467 - val_accuracy: 0.7424\n",
            "Epoch 8/100\n",
            "10/10 [==============================] - 0s 5ms/step - loss: -3.6795 - accuracy: 0.7270 - val_loss: -3.2649 - val_accuracy: 0.7424\n",
            "Epoch 9/100\n",
            "10/10 [==============================] - 0s 5ms/step - loss: -3.7464 - accuracy: 0.7253 - val_loss: -3.3366 - val_accuracy: 0.7273\n",
            "Epoch 10/100\n",
            "10/10 [==============================] - 0s 7ms/step - loss: -3.8041 - accuracy: 0.7235 - val_loss: -3.3960 - val_accuracy: 0.7424\n",
            "Epoch 11/100\n",
            "10/10 [==============================] - 0s 4ms/step - loss: -3.8794 - accuracy: 0.7321 - val_loss: -3.4584 - val_accuracy: 0.7273\n",
            "Epoch 12/100\n",
            "10/10 [==============================] - 0s 5ms/step - loss: -3.9153 - accuracy: 0.7184 - val_loss: -3.5248 - val_accuracy: 0.7273\n",
            "Epoch 13/100\n",
            "10/10 [==============================] - 0s 5ms/step - loss: -4.0048 - accuracy: 0.7321 - val_loss: -3.5728 - val_accuracy: 0.7273\n",
            "Epoch 14/100\n",
            "10/10 [==============================] - 0s 5ms/step - loss: -4.0742 - accuracy: 0.7338 - val_loss: -3.6171 - val_accuracy: 0.7273\n",
            "Epoch 15/100\n",
            "10/10 [==============================] - 0s 4ms/step - loss: -4.1443 - accuracy: 0.7338 - val_loss: -3.6817 - val_accuracy: 0.7273\n",
            "Epoch 16/100\n",
            "10/10 [==============================] - 0s 5ms/step - loss: -4.2085 - accuracy: 0.7321 - val_loss: -3.7469 - val_accuracy: 0.7273\n",
            "Epoch 17/100\n",
            "10/10 [==============================] - 0s 6ms/step - loss: -4.2800 - accuracy: 0.7338 - val_loss: -3.8024 - val_accuracy: 0.7273\n",
            "Epoch 18/100\n",
            "10/10 [==============================] - 0s 5ms/step - loss: -4.3375 - accuracy: 0.7287 - val_loss: -3.8660 - val_accuracy: 0.7273\n",
            "Epoch 19/100\n",
            "10/10 [==============================] - 0s 5ms/step - loss: -4.4110 - accuracy: 0.7338 - val_loss: -3.9263 - val_accuracy: 0.7273\n",
            "Epoch 20/100\n",
            "10/10 [==============================] - 0s 5ms/step - loss: -4.4578 - accuracy: 0.7253 - val_loss: -3.9732 - val_accuracy: 0.7273\n",
            "Epoch 21/100\n",
            "10/10 [==============================] - 0s 8ms/step - loss: -4.5151 - accuracy: 0.7287 - val_loss: -4.0214 - val_accuracy: 0.7273\n",
            "Epoch 22/100\n",
            "10/10 [==============================] - 0s 7ms/step - loss: -4.5831 - accuracy: 0.7270 - val_loss: -4.0436 - val_accuracy: 0.7273\n",
            "Epoch 23/100\n",
            "10/10 [==============================] - 0s 5ms/step - loss: -4.6492 - accuracy: 0.7287 - val_loss: -4.1160 - val_accuracy: 0.7273\n",
            "Epoch 24/100\n",
            "10/10 [==============================] - 0s 5ms/step - loss: -4.7167 - accuracy: 0.7321 - val_loss: -4.1690 - val_accuracy: 0.7273\n",
            "Epoch 25/100\n",
            "10/10 [==============================] - 0s 6ms/step - loss: -4.7829 - accuracy: 0.7355 - val_loss: -4.2290 - val_accuracy: 0.7273\n",
            "Epoch 26/100\n",
            "10/10 [==============================] - 0s 4ms/step - loss: -4.8469 - accuracy: 0.7372 - val_loss: -4.2855 - val_accuracy: 0.7273\n",
            "Epoch 27/100\n",
            "10/10 [==============================] - 0s 5ms/step - loss: -4.9054 - accuracy: 0.7372 - val_loss: -4.3345 - val_accuracy: 0.7273\n",
            "Epoch 28/100\n",
            "10/10 [==============================] - 0s 4ms/step - loss: -4.9581 - accuracy: 0.7287 - val_loss: -4.4011 - val_accuracy: 0.7273\n",
            "Epoch 29/100\n",
            "10/10 [==============================] - 0s 5ms/step - loss: -5.0320 - accuracy: 0.7321 - val_loss: -4.4531 - val_accuracy: 0.7273\n",
            "Epoch 30/100\n",
            "10/10 [==============================] - 0s 4ms/step - loss: -5.0967 - accuracy: 0.7372 - val_loss: -4.5269 - val_accuracy: 0.7273\n",
            "Epoch 31/100\n",
            "10/10 [==============================] - 0s 5ms/step - loss: -5.1656 - accuracy: 0.7338 - val_loss: -4.5722 - val_accuracy: 0.7273\n",
            "Epoch 32/100\n",
            "10/10 [==============================] - 0s 5ms/step - loss: -5.2232 - accuracy: 0.7355 - val_loss: -4.6307 - val_accuracy: 0.7273\n",
            "Epoch 33/100\n",
            "10/10 [==============================] - 0s 6ms/step - loss: -5.2745 - accuracy: 0.7355 - val_loss: -4.6875 - val_accuracy: 0.7273\n",
            "Epoch 34/100\n",
            "10/10 [==============================] - 0s 5ms/step - loss: -5.3499 - accuracy: 0.7355 - val_loss: -4.7366 - val_accuracy: 0.7273\n",
            "Epoch 35/100\n",
            "10/10 [==============================] - 0s 5ms/step - loss: -5.4197 - accuracy: 0.7406 - val_loss: -4.7902 - val_accuracy: 0.7273\n",
            "Epoch 36/100\n",
            "10/10 [==============================] - 0s 5ms/step - loss: -5.4822 - accuracy: 0.7406 - val_loss: -4.8411 - val_accuracy: 0.7273\n",
            "Epoch 37/100\n",
            "10/10 [==============================] - 0s 5ms/step - loss: -5.5526 - accuracy: 0.7423 - val_loss: -4.8998 - val_accuracy: 0.7273\n",
            "Epoch 38/100\n",
            "10/10 [==============================] - 0s 5ms/step - loss: -5.6158 - accuracy: 0.7406 - val_loss: -4.9598 - val_accuracy: 0.7121\n",
            "Epoch 39/100\n",
            "10/10 [==============================] - 0s 6ms/step - loss: -5.6841 - accuracy: 0.7440 - val_loss: -5.0242 - val_accuracy: 0.7273\n",
            "Epoch 40/100\n",
            "10/10 [==============================] - 0s 5ms/step - loss: -5.7458 - accuracy: 0.7423 - val_loss: -5.0702 - val_accuracy: 0.7273\n",
            "Epoch 41/100\n",
            "10/10 [==============================] - 0s 5ms/step - loss: -5.8093 - accuracy: 0.7389 - val_loss: -5.1169 - val_accuracy: 0.7273\n",
            "Epoch 42/100\n",
            "10/10 [==============================] - 0s 5ms/step - loss: -5.8691 - accuracy: 0.7389 - val_loss: -5.1730 - val_accuracy: 0.7121\n",
            "Epoch 43/100\n",
            "10/10 [==============================] - 0s 5ms/step - loss: -5.9377 - accuracy: 0.7389 - val_loss: -5.2263 - val_accuracy: 0.7273\n",
            "Epoch 44/100\n",
            "10/10 [==============================] - 0s 5ms/step - loss: -6.0040 - accuracy: 0.7440 - val_loss: -5.2793 - val_accuracy: 0.7121\n",
            "Epoch 45/100\n",
            "10/10 [==============================] - 0s 5ms/step - loss: -6.0668 - accuracy: 0.7440 - val_loss: -5.3253 - val_accuracy: 0.7273\n",
            "Epoch 46/100\n",
            "10/10 [==============================] - 0s 5ms/step - loss: -6.1297 - accuracy: 0.7423 - val_loss: -5.3831 - val_accuracy: 0.7121\n",
            "Epoch 47/100\n",
            "10/10 [==============================] - 0s 5ms/step - loss: -6.1910 - accuracy: 0.7440 - val_loss: -5.4443 - val_accuracy: 0.7273\n",
            "Epoch 48/100\n",
            "10/10 [==============================] - 0s 5ms/step - loss: -6.2565 - accuracy: 0.7440 - val_loss: -5.4994 - val_accuracy: 0.7121\n",
            "Epoch 49/100\n",
            "10/10 [==============================] - 0s 5ms/step - loss: -6.3201 - accuracy: 0.7423 - val_loss: -5.5496 - val_accuracy: 0.7121\n",
            "Epoch 50/100\n",
            "10/10 [==============================] - 0s 5ms/step - loss: -6.3865 - accuracy: 0.7457 - val_loss: -5.6049 - val_accuracy: 0.7121\n",
            "Epoch 51/100\n",
            "10/10 [==============================] - 0s 4ms/step - loss: -6.4543 - accuracy: 0.7457 - val_loss: -5.6631 - val_accuracy: 0.7121\n",
            "Epoch 52/100\n",
            "10/10 [==============================] - 0s 5ms/step - loss: -6.5156 - accuracy: 0.7457 - val_loss: -5.7064 - val_accuracy: 0.7121\n",
            "Epoch 53/100\n",
            "10/10 [==============================] - 0s 5ms/step - loss: -6.5814 - accuracy: 0.7457 - val_loss: -5.7672 - val_accuracy: 0.7273\n",
            "Epoch 54/100\n",
            "10/10 [==============================] - 0s 5ms/step - loss: -6.6401 - accuracy: 0.7440 - val_loss: -5.8162 - val_accuracy: 0.7121\n",
            "Epoch 55/100\n",
            "10/10 [==============================] - 0s 6ms/step - loss: -6.6994 - accuracy: 0.7406 - val_loss: -5.8761 - val_accuracy: 0.7121\n",
            "Epoch 56/100\n",
            "10/10 [==============================] - 0s 5ms/step - loss: -6.7598 - accuracy: 0.7406 - val_loss: -5.8511 - val_accuracy: 0.7121\n",
            "Epoch 57/100\n",
            "10/10 [==============================] - 0s 6ms/step - loss: -6.8155 - accuracy: 0.7338 - val_loss: -5.9499 - val_accuracy: 0.7121\n",
            "Epoch 58/100\n",
            "10/10 [==============================] - 0s 5ms/step - loss: -6.8841 - accuracy: 0.7372 - val_loss: -6.0359 - val_accuracy: 0.7121\n",
            "Epoch 59/100\n",
            "10/10 [==============================] - 0s 5ms/step - loss: -6.9563 - accuracy: 0.7457 - val_loss: -6.0770 - val_accuracy: 0.7121\n",
            "Epoch 60/100\n",
            "10/10 [==============================] - 0s 5ms/step - loss: -7.0219 - accuracy: 0.7474 - val_loss: -6.1290 - val_accuracy: 0.7121\n",
            "Epoch 61/100\n",
            "10/10 [==============================] - 0s 7ms/step - loss: -7.0869 - accuracy: 0.7474 - val_loss: -6.1786 - val_accuracy: 0.7121\n",
            "Epoch 62/100\n",
            "10/10 [==============================] - 0s 5ms/step - loss: -7.1513 - accuracy: 0.7474 - val_loss: -6.2458 - val_accuracy: 0.7121\n",
            "Epoch 63/100\n",
            "10/10 [==============================] - 0s 5ms/step - loss: -7.2168 - accuracy: 0.7474 - val_loss: -6.3012 - val_accuracy: 0.7121\n",
            "Epoch 64/100\n",
            "10/10 [==============================] - 0s 4ms/step - loss: -7.2855 - accuracy: 0.7474 - val_loss: -6.3419 - val_accuracy: 0.7121\n",
            "Epoch 65/100\n",
            "10/10 [==============================] - 0s 5ms/step - loss: -7.3470 - accuracy: 0.7474 - val_loss: -6.3915 - val_accuracy: 0.7121\n",
            "Epoch 66/100\n",
            "10/10 [==============================] - 0s 5ms/step - loss: -7.4100 - accuracy: 0.7457 - val_loss: -6.4381 - val_accuracy: 0.7121\n",
            "Epoch 67/100\n",
            "10/10 [==============================] - 0s 6ms/step - loss: -7.4763 - accuracy: 0.7474 - val_loss: -6.5073 - val_accuracy: 0.7121\n",
            "Epoch 68/100\n",
            "10/10 [==============================] - 0s 5ms/step - loss: -7.5441 - accuracy: 0.7474 - val_loss: -6.5607 - val_accuracy: 0.7121\n",
            "Epoch 69/100\n",
            "10/10 [==============================] - 0s 5ms/step - loss: -7.6086 - accuracy: 0.7474 - val_loss: -6.6094 - val_accuracy: 0.7121\n",
            "Epoch 70/100\n",
            "10/10 [==============================] - 0s 5ms/step - loss: -7.6715 - accuracy: 0.7474 - val_loss: -6.6690 - val_accuracy: 0.7121\n",
            "Epoch 71/100\n",
            "10/10 [==============================] - 0s 5ms/step - loss: -7.7344 - accuracy: 0.7474 - val_loss: -6.7174 - val_accuracy: 0.7121\n",
            "Epoch 72/100\n",
            "10/10 [==============================] - 0s 6ms/step - loss: -7.8003 - accuracy: 0.7474 - val_loss: -6.7657 - val_accuracy: 0.7121\n",
            "Epoch 73/100\n",
            "10/10 [==============================] - 0s 5ms/step - loss: -7.8595 - accuracy: 0.7474 - val_loss: -6.8521 - val_accuracy: 0.7121\n",
            "Epoch 74/100\n",
            "10/10 [==============================] - 0s 6ms/step - loss: -7.9065 - accuracy: 0.7372 - val_loss: -6.9197 - val_accuracy: 0.7121\n",
            "Epoch 75/100\n",
            "10/10 [==============================] - 0s 6ms/step - loss: -7.9857 - accuracy: 0.7457 - val_loss: -6.9102 - val_accuracy: 0.7273\n",
            "Epoch 76/100\n",
            "10/10 [==============================] - 0s 5ms/step - loss: -8.0495 - accuracy: 0.7440 - val_loss: -6.9938 - val_accuracy: 0.7121\n",
            "Epoch 77/100\n",
            "10/10 [==============================] - 0s 5ms/step - loss: -8.1167 - accuracy: 0.7474 - val_loss: -7.0521 - val_accuracy: 0.7121\n",
            "Epoch 78/100\n",
            "10/10 [==============================] - 0s 5ms/step - loss: -8.1783 - accuracy: 0.7474 - val_loss: -7.1117 - val_accuracy: 0.7121\n",
            "Epoch 79/100\n",
            "10/10 [==============================] - 0s 6ms/step - loss: -8.2393 - accuracy: 0.7474 - val_loss: -7.1344 - val_accuracy: 0.7121\n",
            "Epoch 80/100\n",
            "10/10 [==============================] - 0s 5ms/step - loss: -8.3016 - accuracy: 0.7457 - val_loss: -7.1806 - val_accuracy: 0.7121\n",
            "Epoch 81/100\n",
            "10/10 [==============================] - 0s 5ms/step - loss: -8.3656 - accuracy: 0.7474 - val_loss: -7.2435 - val_accuracy: 0.7121\n",
            "Epoch 82/100\n",
            "10/10 [==============================] - 0s 5ms/step - loss: -8.4291 - accuracy: 0.7474 - val_loss: -7.2839 - val_accuracy: 0.7121\n",
            "Epoch 83/100\n",
            "10/10 [==============================] - 0s 7ms/step - loss: -8.4895 - accuracy: 0.7474 - val_loss: -7.3400 - val_accuracy: 0.7121\n",
            "Epoch 84/100\n",
            "10/10 [==============================] - 0s 4ms/step - loss: -8.5570 - accuracy: 0.7457 - val_loss: -7.4034 - val_accuracy: 0.7121\n",
            "Epoch 85/100\n",
            "10/10 [==============================] - 0s 5ms/step - loss: -8.6185 - accuracy: 0.7474 - val_loss: -7.4355 - val_accuracy: 0.7121\n",
            "Epoch 86/100\n",
            "10/10 [==============================] - 0s 5ms/step - loss: -8.6790 - accuracy: 0.7440 - val_loss: -7.5210 - val_accuracy: 0.7121\n",
            "Epoch 87/100\n",
            "10/10 [==============================] - 0s 5ms/step - loss: -8.7490 - accuracy: 0.7474 - val_loss: -7.5416 - val_accuracy: 0.6970\n",
            "Epoch 88/100\n",
            "10/10 [==============================] - 0s 5ms/step - loss: -8.8139 - accuracy: 0.7474 - val_loss: -7.6114 - val_accuracy: 0.7121\n",
            "Epoch 89/100\n",
            "10/10 [==============================] - 0s 5ms/step - loss: -8.8784 - accuracy: 0.7474 - val_loss: -7.6749 - val_accuracy: 0.7121\n",
            "Epoch 90/100\n",
            "10/10 [==============================] - 0s 5ms/step - loss: -8.9415 - accuracy: 0.7474 - val_loss: -7.7294 - val_accuracy: 0.7121\n",
            "Epoch 91/100\n",
            "10/10 [==============================] - 0s 5ms/step - loss: -9.0067 - accuracy: 0.7474 - val_loss: -7.7820 - val_accuracy: 0.7121\n",
            "Epoch 92/100\n",
            "10/10 [==============================] - 0s 4ms/step - loss: -9.0704 - accuracy: 0.7474 - val_loss: -7.8422 - val_accuracy: 0.7121\n",
            "Epoch 93/100\n",
            "10/10 [==============================] - 0s 5ms/step - loss: -9.1351 - accuracy: 0.7474 - val_loss: -7.8965 - val_accuracy: 0.7121\n",
            "Epoch 94/100\n",
            "10/10 [==============================] - 0s 5ms/step - loss: -9.1993 - accuracy: 0.7474 - val_loss: -7.9468 - val_accuracy: 0.7121\n",
            "Epoch 95/100\n",
            "10/10 [==============================] - 0s 4ms/step - loss: -9.2647 - accuracy: 0.7474 - val_loss: -7.9982 - val_accuracy: 0.7121\n",
            "Epoch 96/100\n",
            "10/10 [==============================] - 0s 5ms/step - loss: -9.3275 - accuracy: 0.7474 - val_loss: -8.0631 - val_accuracy: 0.7121\n",
            "Epoch 97/100\n",
            "10/10 [==============================] - 0s 5ms/step - loss: -9.3948 - accuracy: 0.7474 - val_loss: -8.1194 - val_accuracy: 0.7121\n",
            "Epoch 98/100\n",
            "10/10 [==============================] - 0s 7ms/step - loss: -9.4611 - accuracy: 0.7474 - val_loss: -8.1744 - val_accuracy: 0.7121\n",
            "Epoch 99/100\n",
            "10/10 [==============================] - 0s 6ms/step - loss: -9.5248 - accuracy: 0.7474 - val_loss: -8.2243 - val_accuracy: 0.7121\n",
            "Epoch 100/100\n",
            "10/10 [==============================] - 0s 5ms/step - loss: -9.5863 - accuracy: 0.7474 - val_loss: -8.2730 - val_accuracy: 0.7121\n"
          ]
        }
      ]
    },
    {
      "cell_type": "code",
      "source": [
        "import matplotlib.pyplot as plt\n",
        "plt.plot(history.history['accuracy'])\n",
        "plt.plot(history.history['val_accuracy'])\n",
        "plt.title('Model accuracy')\n",
        "plt.ylabel('Accuracy')\n",
        "plt.xlabel('Epoch')\n",
        "plt.legend(['Train', 'Test'], loc='upper left')\n",
        "plt.show()"
      ],
      "metadata": {
        "colab": {
          "base_uri": "https://localhost:8080/",
          "height": 301
        },
        "id": "T2aLKK8lGI_-",
        "outputId": "9ca89c42-3440-4713-c85b-43c1d6687edc"
      },
      "execution_count": null,
      "outputs": [
        {
          "output_type": "display_data",
          "data": {
            "text/plain": [
              "<Figure size 432x288 with 1 Axes>"
            ],
            "image/png": "[encoded data removed]"
          },
          "metadata": {}
        }
      ]
    },
    {
      "cell_type": "markdown",
      "source": [
        "# temp"
      ],
      "metadata": {
        "id": "-N4E96p_WUMN"
      }
    },
    {
      "cell_type": "code",
      "source": [
        "#Normalizing the data\n",
        "from sklearn.preprocessing import StandardScaler\n",
        "sc = StandardScaler()\n",
        "X = sc.fit_transform(x)\n",
        "print(x)"
      ],
      "metadata": {
        "colab": {
          "base_uri": "https://localhost:8080/"
        },
        "id": "IEo7mrLdVw59",
        "outputId": "09a4a162-363f-42ec-ea32-0bd28f671449"
      },
      "execution_count": null,
      "outputs": [
        {
          "output_type": "stream",
          "name": "stdout",
          "text": [
            "[[1368.         1261.         1605.         ...  427.\n",
            "   467.          470.        ]\n",
            " [1385.         1274.         1397.         ...  418.\n",
            "   477.          452.        ]\n",
            " [1250.         1082.         1322.         ...  388.\n",
            "   395.          391.        ]\n",
            " ...\n",
            " [1180.         1042.         1192.         ...  395.\n",
            "   434.          423.        ]\n",
            " [1080.          920.51       1033.75       ...  397.\n",
            "   357.          385.        ]\n",
            " [1107.7341814  1099.55091139 1341.29814417 ...  367.\n",
            "   394.          403.        ]]\n"
          ]
        }
      ]
    },
    {
      "cell_type": "code",
      "source": [
        "from sklearn.model_selection import train_test_split\n",
        "X_train,X_test,y_train,y_test = train_test_split(X,y,test_size = 0.1)"
      ],
      "metadata": {
        "id": "knwVhlrNWX5Z"
      },
      "execution_count": null,
      "outputs": []
    },
    {
      "cell_type": "code",
      "source": [
        "model = Sequential()\n",
        "model.add(Dense(16, input_dim=34, activation='tanh'))\n",
        "model.add(Dense(12, activation='tanh'))\n",
        "model.add(Dense(1, activation='sigmoid'))"
      ],
      "metadata": {
        "id": "Qu0O_68NWYSz"
      },
      "execution_count": null,
      "outputs": []
    },
    {
      "cell_type": "code",
      "source": [
        "model.compile(loss='categorical_crossentropy', optimizer='adam', metrics=['accuracy'])"
      ],
      "metadata": {
        "id": "2hJ0B2NBWZtC"
      },
      "execution_count": null,
      "outputs": []
    },
    {
      "cell_type": "code",
      "source": [
        "history = model.fit(X_train, y_train, epochs=100, batch_size=64)"
      ],
      "metadata": {
        "colab": {
          "base_uri": "https://localhost:8080/"
        },
        "id": "iMTYENNVWbWA",
        "outputId": "09d23460-4206-4f21-f246-280142e82277"
      },
      "execution_count": null,
      "outputs": [
        {
          "output_type": "stream",
          "name": "stdout",
          "text": [
            "Epoch 1/100\n",
            "10/10 [==============================] - 0s 2ms/step - loss: 0.0000e+00 - accuracy: 0.2867\n",
            "Epoch 2/100\n",
            "10/10 [==============================] - 0s 2ms/step - loss: 0.0000e+00 - accuracy: 0.4727\n",
            "Epoch 3/100\n",
            "10/10 [==============================] - 0s 2ms/step - loss: 0.0000e+00 - accuracy: 0.4590\n",
            "Epoch 4/100\n",
            "10/10 [==============================] - 0s 2ms/step - loss: 0.0000e+00 - accuracy: 0.4608\n",
            "Epoch 5/100\n",
            "10/10 [==============================] - 0s 2ms/step - loss: 0.0000e+00 - accuracy: 0.4642\n",
            "Epoch 6/100\n",
            "10/10 [==============================] - 0s 3ms/step - loss: 0.0000e+00 - accuracy: 0.4642\n",
            "Epoch 7/100\n",
            "10/10 [==============================] - 0s 2ms/step - loss: 0.0000e+00 - accuracy: 0.4590\n",
            "Epoch 8/100\n",
            "10/10 [==============================] - 0s 2ms/step - loss: 0.0000e+00 - accuracy: 0.4590\n",
            "Epoch 9/100\n",
            "10/10 [==============================] - 0s 2ms/step - loss: 0.0000e+00 - accuracy: 0.4608\n",
            "Epoch 10/100\n",
            "10/10 [==============================] - 0s 2ms/step - loss: 0.0000e+00 - accuracy: 0.4625\n",
            "Epoch 11/100\n",
            "10/10 [==============================] - 0s 2ms/step - loss: 0.0000e+00 - accuracy: 0.4625\n",
            "Epoch 12/100\n",
            "10/10 [==============================] - 0s 2ms/step - loss: 0.0000e+00 - accuracy: 0.4625\n",
            "Epoch 13/100\n",
            "10/10 [==============================] - 0s 2ms/step - loss: 0.0000e+00 - accuracy: 0.4625\n",
            "Epoch 14/100\n",
            "10/10 [==============================] - 0s 2ms/step - loss: 0.0000e+00 - accuracy: 0.4625\n",
            "Epoch 15/100\n",
            "10/10 [==============================] - 0s 2ms/step - loss: 0.0000e+00 - accuracy: 0.4625\n",
            "Epoch 16/100\n",
            "10/10 [==============================] - 0s 2ms/step - loss: 0.0000e+00 - accuracy: 0.4625\n",
            "Epoch 17/100\n",
            "10/10 [==============================] - 0s 3ms/step - loss: 0.0000e+00 - accuracy: 0.4625\n",
            "Epoch 18/100\n",
            "10/10 [==============================] - 0s 3ms/step - loss: 0.0000e+00 - accuracy: 0.4625\n",
            "Epoch 19/100\n",
            "10/10 [==============================] - 0s 2ms/step - loss: 0.0000e+00 - accuracy: 0.4625\n",
            "Epoch 20/100\n",
            "10/10 [==============================] - 0s 2ms/step - loss: 0.0000e+00 - accuracy: 0.4625\n",
            "Epoch 21/100\n",
            "10/10 [==============================] - 0s 2ms/step - loss: 0.0000e+00 - accuracy: 0.4608\n",
            "Epoch 22/100\n",
            "10/10 [==============================] - 0s 2ms/step - loss: 0.0000e+00 - accuracy: 0.4608\n",
            "Epoch 23/100\n",
            "10/10 [==============================] - 0s 2ms/step - loss: 0.0000e+00 - accuracy: 0.4608\n",
            "Epoch 24/100\n",
            "10/10 [==============================] - 0s 2ms/step - loss: 0.0000e+00 - accuracy: 0.4608\n",
            "Epoch 25/100\n",
            "10/10 [==============================] - 0s 2ms/step - loss: 0.0000e+00 - accuracy: 0.4608\n",
            "Epoch 26/100\n",
            "10/10 [==============================] - 0s 2ms/step - loss: 0.0000e+00 - accuracy: 0.4608\n",
            "Epoch 27/100\n",
            "10/10 [==============================] - 0s 2ms/step - loss: 0.0000e+00 - accuracy: 0.4608\n",
            "Epoch 28/100\n",
            "10/10 [==============================] - 0s 2ms/step - loss: 0.0000e+00 - accuracy: 0.4608\n",
            "Epoch 29/100\n",
            "10/10 [==============================] - 0s 2ms/step - loss: 0.0000e+00 - accuracy: 0.4608\n",
            "Epoch 30/100\n",
            "10/10 [==============================] - 0s 2ms/step - loss: 0.0000e+00 - accuracy: 0.4608\n",
            "Epoch 31/100\n",
            "10/10 [==============================] - 0s 2ms/step - loss: 0.0000e+00 - accuracy: 0.4608\n",
            "Epoch 32/100\n",
            "10/10 [==============================] - 0s 2ms/step - loss: 0.0000e+00 - accuracy: 0.4608\n",
            "Epoch 33/100\n",
            "10/10 [==============================] - 0s 2ms/step - loss: 0.0000e+00 - accuracy: 0.4608\n",
            "Epoch 34/100\n",
            "10/10 [==============================] - 0s 2ms/step - loss: 0.0000e+00 - accuracy: 0.4608\n",
            "Epoch 35/100\n",
            "10/10 [==============================] - 0s 2ms/step - loss: 0.0000e+00 - accuracy: 0.4608\n",
            "Epoch 36/100\n",
            "10/10 [==============================] - 0s 2ms/step - loss: 0.0000e+00 - accuracy: 0.4608\n",
            "Epoch 37/100\n",
            "10/10 [==============================] - 0s 2ms/step - loss: 0.0000e+00 - accuracy: 0.4608\n",
            "Epoch 38/100\n",
            "10/10 [==============================] - 0s 2ms/step - loss: 0.0000e+00 - accuracy: 0.4608\n",
            "Epoch 39/100\n",
            "10/10 [==============================] - 0s 2ms/step - loss: 0.0000e+00 - accuracy: 0.4608\n",
            "Epoch 40/100\n",
            "10/10 [==============================] - 0s 2ms/step - loss: 0.0000e+00 - accuracy: 0.4608\n",
            "Epoch 41/100\n",
            "10/10 [==============================] - 0s 2ms/step - loss: 0.0000e+00 - accuracy: 0.4590\n",
            "Epoch 42/100\n",
            "10/10 [==============================] - 0s 2ms/step - loss: 0.0000e+00 - accuracy: 0.4590\n",
            "Epoch 43/100\n",
            "10/10 [==============================] - 0s 2ms/step - loss: 0.0000e+00 - accuracy: 0.4590\n",
            "Epoch 44/100\n",
            "10/10 [==============================] - 0s 2ms/step - loss: 0.0000e+00 - accuracy: 0.4590\n",
            "Epoch 45/100\n",
            "10/10 [==============================] - 0s 2ms/step - loss: 0.0000e+00 - accuracy: 0.4590\n",
            "Epoch 46/100\n",
            "10/10 [==============================] - 0s 2ms/step - loss: 0.0000e+00 - accuracy: 0.4590\n",
            "Epoch 47/100\n",
            "10/10 [==============================] - 0s 2ms/step - loss: 0.0000e+00 - accuracy: 0.4590\n",
            "Epoch 48/100\n",
            "10/10 [==============================] - 0s 2ms/step - loss: 0.0000e+00 - accuracy: 0.4590\n",
            "Epoch 49/100\n",
            "10/10 [==============================] - 0s 2ms/step - loss: 0.0000e+00 - accuracy: 0.4590\n",
            "Epoch 50/100\n",
            "10/10 [==============================] - 0s 2ms/step - loss: 0.0000e+00 - accuracy: 0.4608\n",
            "Epoch 51/100\n",
            "10/10 [==============================] - 0s 2ms/step - loss: 0.0000e+00 - accuracy: 0.4608\n",
            "Epoch 52/100\n",
            "10/10 [==============================] - 0s 2ms/step - loss: 0.0000e+00 - accuracy: 0.4608\n",
            "Epoch 53/100\n",
            "10/10 [==============================] - 0s 2ms/step - loss: 0.0000e+00 - accuracy: 0.4608\n",
            "Epoch 54/100\n",
            "10/10 [==============================] - 0s 2ms/step - loss: 0.0000e+00 - accuracy: 0.4608\n",
            "Epoch 55/100\n",
            "10/10 [==============================] - 0s 2ms/step - loss: 0.0000e+00 - accuracy: 0.4608\n",
            "Epoch 56/100\n",
            "10/10 [==============================] - 0s 2ms/step - loss: 0.0000e+00 - accuracy: 0.4608\n",
            "Epoch 57/100\n",
            "10/10 [==============================] - 0s 2ms/step - loss: 0.0000e+00 - accuracy: 0.4608\n",
            "Epoch 58/100\n",
            "10/10 [==============================] - 0s 2ms/step - loss: 0.0000e+00 - accuracy: 0.4608\n",
            "Epoch 59/100\n",
            "10/10 [==============================] - 0s 2ms/step - loss: 0.0000e+00 - accuracy: 0.4608\n",
            "Epoch 60/100\n",
            "10/10 [==============================] - 0s 2ms/step - loss: 0.0000e+00 - accuracy: 0.4608\n",
            "Epoch 61/100\n",
            "10/10 [==============================] - 0s 2ms/step - loss: 0.0000e+00 - accuracy: 0.4608\n",
            "Epoch 62/100\n",
            "10/10 [==============================] - 0s 2ms/step - loss: 0.0000e+00 - accuracy: 0.4608\n",
            "Epoch 63/100\n",
            "10/10 [==============================] - 0s 2ms/step - loss: 0.0000e+00 - accuracy: 0.4608\n",
            "Epoch 64/100\n",
            "10/10 [==============================] - 0s 3ms/step - loss: 0.0000e+00 - accuracy: 0.4608\n",
            "Epoch 65/100\n",
            "10/10 [==============================] - 0s 2ms/step - loss: 0.0000e+00 - accuracy: 0.4608\n",
            "Epoch 66/100\n",
            "10/10 [==============================] - 0s 2ms/step - loss: 0.0000e+00 - accuracy: 0.4608\n",
            "Epoch 67/100\n",
            "10/10 [==============================] - 0s 2ms/step - loss: 0.0000e+00 - accuracy: 0.4608\n",
            "Epoch 68/100\n",
            "10/10 [==============================] - 0s 2ms/step - loss: 0.0000e+00 - accuracy: 0.4608\n",
            "Epoch 69/100\n",
            "10/10 [==============================] - 0s 2ms/step - loss: 0.0000e+00 - accuracy: 0.4608\n",
            "Epoch 70/100\n",
            "10/10 [==============================] - 0s 2ms/step - loss: 0.0000e+00 - accuracy: 0.4608\n",
            "Epoch 71/100\n",
            "10/10 [==============================] - 0s 2ms/step - loss: 0.0000e+00 - accuracy: 0.4608\n",
            "Epoch 72/100\n",
            "10/10 [==============================] - 0s 2ms/step - loss: 0.0000e+00 - accuracy: 0.4608\n",
            "Epoch 73/100\n",
            "10/10 [==============================] - 0s 2ms/step - loss: 0.0000e+00 - accuracy: 0.4608\n",
            "Epoch 74/100\n",
            "10/10 [==============================] - 0s 2ms/step - loss: 0.0000e+00 - accuracy: 0.4608\n",
            "Epoch 75/100\n",
            "10/10 [==============================] - 0s 2ms/step - loss: 0.0000e+00 - accuracy: 0.4608\n",
            "Epoch 76/100\n",
            "10/10 [==============================] - 0s 2ms/step - loss: 0.0000e+00 - accuracy: 0.4608\n",
            "Epoch 77/100\n",
            "10/10 [==============================] - 0s 2ms/step - loss: 0.0000e+00 - accuracy: 0.4608\n",
            "Epoch 78/100\n",
            "10/10 [==============================] - 0s 2ms/step - loss: 0.0000e+00 - accuracy: 0.4608\n",
            "Epoch 79/100\n",
            "10/10 [==============================] - 0s 2ms/step - loss: 0.0000e+00 - accuracy: 0.4608\n",
            "Epoch 80/100\n",
            "10/10 [==============================] - 0s 3ms/step - loss: 0.0000e+00 - accuracy: 0.4608\n",
            "Epoch 81/100\n",
            "10/10 [==============================] - 0s 3ms/step - loss: 0.0000e+00 - accuracy: 0.4608\n",
            "Epoch 82/100\n",
            "10/10 [==============================] - 0s 2ms/step - loss: 0.0000e+00 - accuracy: 0.4608\n",
            "Epoch 83/100\n",
            "10/10 [==============================] - 0s 2ms/step - loss: 0.0000e+00 - accuracy: 0.4608\n",
            "Epoch 84/100\n",
            "10/10 [==============================] - 0s 2ms/step - loss: 0.0000e+00 - accuracy: 0.4608\n",
            "Epoch 85/100\n",
            "10/10 [==============================] - 0s 2ms/step - loss: 0.0000e+00 - accuracy: 0.4608\n",
            "Epoch 86/100\n",
            "10/10 [==============================] - 0s 2ms/step - loss: 0.0000e+00 - accuracy: 0.4608\n",
            "Epoch 87/100\n",
            "10/10 [==============================] - 0s 2ms/step - loss: 0.0000e+00 - accuracy: 0.4608\n",
            "Epoch 88/100\n",
            "10/10 [==============================] - 0s 2ms/step - loss: 0.0000e+00 - accuracy: 0.4608\n",
            "Epoch 89/100\n",
            "10/10 [==============================] - 0s 2ms/step - loss: 0.0000e+00 - accuracy: 0.4608\n",
            "Epoch 90/100\n",
            "10/10 [==============================] - 0s 2ms/step - loss: 0.0000e+00 - accuracy: 0.4608\n",
            "Epoch 91/100\n",
            "10/10 [==============================] - 0s 2ms/step - loss: 0.0000e+00 - accuracy: 0.4608\n",
            "Epoch 92/100\n",
            "10/10 [==============================] - 0s 2ms/step - loss: 0.0000e+00 - accuracy: 0.4608\n",
            "Epoch 93/100\n",
            "10/10 [==============================] - 0s 2ms/step - loss: 0.0000e+00 - accuracy: 0.4608\n",
            "Epoch 94/100\n",
            "10/10 [==============================] - 0s 2ms/step - loss: 0.0000e+00 - accuracy: 0.4608\n",
            "Epoch 95/100\n",
            "10/10 [==============================] - 0s 2ms/step - loss: 0.0000e+00 - accuracy: 0.4608\n",
            "Epoch 96/100\n",
            "10/10 [==============================] - 0s 2ms/step - loss: 0.0000e+00 - accuracy: 0.4608\n",
            "Epoch 97/100\n",
            "10/10 [==============================] - 0s 2ms/step - loss: 0.0000e+00 - accuracy: 0.4608\n",
            "Epoch 98/100\n",
            "10/10 [==============================] - 0s 2ms/step - loss: 0.0000e+00 - accuracy: 0.4608\n",
            "Epoch 99/100\n",
            "10/10 [==============================] - 0s 2ms/step - loss: 0.0000e+00 - accuracy: 0.4608\n",
            "Epoch 100/100\n",
            "10/10 [==============================] - 0s 2ms/step - loss: 0.0000e+00 - accuracy: 0.4608\n"
          ]
        }
      ]
    },
    {
      "cell_type": "code",
      "source": [
        "y_pred = model.predict(X_test)\n",
        "#Converting predictions to label\n",
        "pred = list()\n",
        "for i in range(len(y_pred)):\n",
        "    pred.append(np.argmax(y_pred[i]))\n",
        "#Converting one hot encoded test label to label\n",
        "test = list()\n",
        "for i in range(len(y_test)):\n",
        "    test.append(np.argmax(y_test[i]))"
      ],
      "metadata": {
        "colab": {
          "base_uri": "https://localhost:8080/"
        },
        "id": "fCXVBrI5Wc6_",
        "outputId": "98f729a7-e646-4da5-8a75-26f446c342c0"
      },
      "execution_count": null,
      "outputs": [
        {
          "output_type": "stream",
          "name": "stdout",
          "text": [
            "3/3 [==============================] - 0s 4ms/step\n"
          ]
        }
      ]
    },
    {
      "cell_type": "code",
      "source": [
        "history = model.fit(X_train, y_train,validation_data = (X_test,y_test), epochs=100, batch_size=64)"
      ],
      "metadata": {
        "colab": {
          "base_uri": "https://localhost:8080/"
        },
        "id": "3KCw9smeWgtD",
        "outputId": "f8c6e27a-fe17-46c9-bc1d-f4daecb778c0"
      },
      "execution_count": null,
      "outputs": [
        {
          "output_type": "stream",
          "name": "stdout",
          "text": [
            "Epoch 1/100\n",
            "10/10 [==============================] - 0s 20ms/step - loss: 0.0000e+00 - accuracy: 0.4608 - val_loss: 0.0000e+00 - val_accuracy: 0.5303\n",
            "Epoch 2/100\n",
            "10/10 [==============================] - 0s 6ms/step - loss: 0.0000e+00 - accuracy: 0.4608 - val_loss: 0.0000e+00 - val_accuracy: 0.5303\n",
            "Epoch 3/100\n",
            "10/10 [==============================] - 0s 4ms/step - loss: 0.0000e+00 - accuracy: 0.4608 - val_loss: 0.0000e+00 - val_accuracy: 0.5303\n",
            "Epoch 4/100\n",
            "10/10 [==============================] - 0s 4ms/step - loss: 0.0000e+00 - accuracy: 0.4608 - val_loss: 0.0000e+00 - val_accuracy: 0.5303\n",
            "Epoch 5/100\n",
            "10/10 [==============================] - 0s 4ms/step - loss: 0.0000e+00 - accuracy: 0.4608 - val_loss: 0.0000e+00 - val_accuracy: 0.5303\n",
            "Epoch 6/100\n",
            "10/10 [==============================] - 0s 5ms/step - loss: 0.0000e+00 - accuracy: 0.4608 - val_loss: 0.0000e+00 - val_accuracy: 0.5303\n",
            "Epoch 7/100\n",
            "10/10 [==============================] - 0s 4ms/step - loss: 0.0000e+00 - accuracy: 0.4608 - val_loss: 0.0000e+00 - val_accuracy: 0.5303\n",
            "Epoch 8/100\n",
            "10/10 [==============================] - 0s 4ms/step - loss: 0.0000e+00 - accuracy: 0.4608 - val_loss: 0.0000e+00 - val_accuracy: 0.5303\n",
            "Epoch 9/100\n",
            "10/10 [==============================] - 0s 4ms/step - loss: 0.0000e+00 - accuracy: 0.4608 - val_loss: 0.0000e+00 - val_accuracy: 0.5303\n",
            "Epoch 10/100\n",
            "10/10 [==============================] - 0s 4ms/step - loss: 0.0000e+00 - accuracy: 0.4608 - val_loss: 0.0000e+00 - val_accuracy: 0.5303\n",
            "Epoch 11/100\n",
            "10/10 [==============================] - 0s 4ms/step - loss: 0.0000e+00 - accuracy: 0.4608 - val_loss: 0.0000e+00 - val_accuracy: 0.5303\n",
            "Epoch 12/100\n",
            "10/10 [==============================] - 0s 4ms/step - loss: 0.0000e+00 - accuracy: 0.4608 - val_loss: 0.0000e+00 - val_accuracy: 0.5303\n",
            "Epoch 13/100\n",
            "10/10 [==============================] - 0s 4ms/step - loss: 0.0000e+00 - accuracy: 0.4608 - val_loss: 0.0000e+00 - val_accuracy: 0.5303\n",
            "Epoch 14/100\n",
            "10/10 [==============================] - 0s 4ms/step - loss: 0.0000e+00 - accuracy: 0.4608 - val_loss: 0.0000e+00 - val_accuracy: 0.5303\n",
            "Epoch 15/100\n",
            "10/10 [==============================] - 0s 4ms/step - loss: 0.0000e+00 - accuracy: 0.4608 - val_loss: 0.0000e+00 - val_accuracy: 0.5303\n",
            "Epoch 16/100\n",
            "10/10 [==============================] - 0s 4ms/step - loss: 0.0000e+00 - accuracy: 0.4608 - val_loss: 0.0000e+00 - val_accuracy: 0.5303\n",
            "Epoch 17/100\n",
            "10/10 [==============================] - 0s 4ms/step - loss: 0.0000e+00 - accuracy: 0.4608 - val_loss: 0.0000e+00 - val_accuracy: 0.5303\n",
            "Epoch 18/100\n",
            "10/10 [==============================] - 0s 4ms/step - loss: 0.0000e+00 - accuracy: 0.4608 - val_loss: 0.0000e+00 - val_accuracy: 0.5303\n",
            "Epoch 19/100\n",
            "10/10 [==============================] - 0s 6ms/step - loss: 0.0000e+00 - accuracy: 0.4608 - val_loss: 0.0000e+00 - val_accuracy: 0.5303\n",
            "Epoch 20/100\n",
            "10/10 [==============================] - 0s 4ms/step - loss: 0.0000e+00 - accuracy: 0.4608 - val_loss: 0.0000e+00 - val_accuracy: 0.5303\n",
            "Epoch 21/100\n",
            "10/10 [==============================] - 0s 4ms/step - loss: 0.0000e+00 - accuracy: 0.4608 - val_loss: 0.0000e+00 - val_accuracy: 0.5303\n",
            "Epoch 22/100\n",
            "10/10 [==============================] - 0s 4ms/step - loss: 0.0000e+00 - accuracy: 0.4608 - val_loss: 0.0000e+00 - val_accuracy: 0.5303\n",
            "Epoch 23/100\n",
            "10/10 [==============================] - 0s 4ms/step - loss: 0.0000e+00 - accuracy: 0.4608 - val_loss: 0.0000e+00 - val_accuracy: 0.5303\n",
            "Epoch 24/100\n",
            "10/10 [==============================] - 0s 4ms/step - loss: 0.0000e+00 - accuracy: 0.4608 - val_loss: 0.0000e+00 - val_accuracy: 0.5303\n",
            "Epoch 25/100\n",
            "10/10 [==============================] - 0s 4ms/step - loss: 0.0000e+00 - accuracy: 0.4608 - val_loss: 0.0000e+00 - val_accuracy: 0.5303\n",
            "Epoch 26/100\n",
            "10/10 [==============================] - 0s 4ms/step - loss: 0.0000e+00 - accuracy: 0.4608 - val_loss: 0.0000e+00 - val_accuracy: 0.5303\n",
            "Epoch 27/100\n",
            "10/10 [==============================] - 0s 4ms/step - loss: 0.0000e+00 - accuracy: 0.4608 - val_loss: 0.0000e+00 - val_accuracy: 0.5303\n",
            "Epoch 28/100\n",
            "10/10 [==============================] - 0s 5ms/step - loss: 0.0000e+00 - accuracy: 0.4608 - val_loss: 0.0000e+00 - val_accuracy: 0.5303\n",
            "Epoch 29/100\n",
            "10/10 [==============================] - 0s 4ms/step - loss: 0.0000e+00 - accuracy: 0.4608 - val_loss: 0.0000e+00 - val_accuracy: 0.5303\n",
            "Epoch 30/100\n",
            "10/10 [==============================] - 0s 4ms/step - loss: 0.0000e+00 - accuracy: 0.4608 - val_loss: 0.0000e+00 - val_accuracy: 0.5303\n",
            "Epoch 31/100\n",
            "10/10 [==============================] - 0s 4ms/step - loss: 0.0000e+00 - accuracy: 0.4608 - val_loss: 0.0000e+00 - val_accuracy: 0.5303\n",
            "Epoch 32/100\n",
            "10/10 [==============================] - 0s 4ms/step - loss: 0.0000e+00 - accuracy: 0.4608 - val_loss: 0.0000e+00 - val_accuracy: 0.5303\n",
            "Epoch 33/100\n",
            "10/10 [==============================] - 0s 4ms/step - loss: 0.0000e+00 - accuracy: 0.4608 - val_loss: 0.0000e+00 - val_accuracy: 0.5303\n",
            "Epoch 34/100\n",
            "10/10 [==============================] - 0s 4ms/step - loss: 0.0000e+00 - accuracy: 0.4608 - val_loss: 0.0000e+00 - val_accuracy: 0.5303\n",
            "Epoch 35/100\n",
            "10/10 [==============================] - 0s 4ms/step - loss: 0.0000e+00 - accuracy: 0.4608 - val_loss: 0.0000e+00 - val_accuracy: 0.5303\n",
            "Epoch 36/100\n",
            "10/10 [==============================] - 0s 4ms/step - loss: 0.0000e+00 - accuracy: 0.4608 - val_loss: 0.0000e+00 - val_accuracy: 0.5303\n",
            "Epoch 37/100\n",
            "10/10 [==============================] - 0s 4ms/step - loss: 0.0000e+00 - accuracy: 0.4608 - val_loss: 0.0000e+00 - val_accuracy: 0.5303\n",
            "Epoch 38/100\n",
            "10/10 [==============================] - 0s 4ms/step - loss: 0.0000e+00 - accuracy: 0.4608 - val_loss: 0.0000e+00 - val_accuracy: 0.5303\n",
            "Epoch 39/100\n",
            "10/10 [==============================] - 0s 4ms/step - loss: 0.0000e+00 - accuracy: 0.4608 - val_loss: 0.0000e+00 - val_accuracy: 0.5303\n",
            "Epoch 40/100\n",
            "10/10 [==============================] - 0s 4ms/step - loss: 0.0000e+00 - accuracy: 0.4608 - val_loss: 0.0000e+00 - val_accuracy: 0.5303\n",
            "Epoch 41/100\n",
            "10/10 [==============================] - 0s 4ms/step - loss: 0.0000e+00 - accuracy: 0.4608 - val_loss: 0.0000e+00 - val_accuracy: 0.5303\n",
            "Epoch 42/100\n",
            "10/10 [==============================] - 0s 4ms/step - loss: 0.0000e+00 - accuracy: 0.4608 - val_loss: 0.0000e+00 - val_accuracy: 0.5303\n",
            "Epoch 43/100\n",
            "10/10 [==============================] - 0s 4ms/step - loss: 0.0000e+00 - accuracy: 0.4608 - val_loss: 0.0000e+00 - val_accuracy: 0.5303\n",
            "Epoch 44/100\n",
            "10/10 [==============================] - 0s 4ms/step - loss: 0.0000e+00 - accuracy: 0.4608 - val_loss: 0.0000e+00 - val_accuracy: 0.5303\n",
            "Epoch 45/100\n",
            "10/10 [==============================] - 0s 6ms/step - loss: 0.0000e+00 - accuracy: 0.4608 - val_loss: 0.0000e+00 - val_accuracy: 0.5303\n",
            "Epoch 46/100\n",
            "10/10 [==============================] - 0s 4ms/step - loss: 0.0000e+00 - accuracy: 0.4608 - val_loss: 0.0000e+00 - val_accuracy: 0.5303\n",
            "Epoch 47/100\n",
            "10/10 [==============================] - 0s 6ms/step - loss: 0.0000e+00 - accuracy: 0.4608 - val_loss: 0.0000e+00 - val_accuracy: 0.5303\n",
            "Epoch 48/100\n",
            "10/10 [==============================] - 0s 4ms/step - loss: 0.0000e+00 - accuracy: 0.4608 - val_loss: 0.0000e+00 - val_accuracy: 0.5303\n",
            "Epoch 49/100\n",
            "10/10 [==============================] - 0s 4ms/step - loss: 0.0000e+00 - accuracy: 0.4608 - val_loss: 0.0000e+00 - val_accuracy: 0.5303\n",
            "Epoch 50/100\n",
            "10/10 [==============================] - 0s 7ms/step - loss: 0.0000e+00 - accuracy: 0.4608 - val_loss: 0.0000e+00 - val_accuracy: 0.5303\n",
            "Epoch 51/100\n",
            "10/10 [==============================] - 0s 4ms/step - loss: 0.0000e+00 - accuracy: 0.4608 - val_loss: 0.0000e+00 - val_accuracy: 0.5303\n",
            "Epoch 52/100\n",
            "10/10 [==============================] - 0s 4ms/step - loss: 0.0000e+00 - accuracy: 0.4608 - val_loss: 0.0000e+00 - val_accuracy: 0.5303\n",
            "Epoch 53/100\n",
            "10/10 [==============================] - 0s 4ms/step - loss: 0.0000e+00 - accuracy: 0.4608 - val_loss: 0.0000e+00 - val_accuracy: 0.5303\n",
            "Epoch 54/100\n",
            "10/10 [==============================] - 0s 4ms/step - loss: 0.0000e+00 - accuracy: 0.4608 - val_loss: 0.0000e+00 - val_accuracy: 0.5303\n",
            "Epoch 55/100\n",
            "10/10 [==============================] - 0s 4ms/step - loss: 0.0000e+00 - accuracy: 0.4608 - val_loss: 0.0000e+00 - val_accuracy: 0.5303\n",
            "Epoch 56/100\n",
            "10/10 [==============================] - 0s 4ms/step - loss: 0.0000e+00 - accuracy: 0.4608 - val_loss: 0.0000e+00 - val_accuracy: 0.5303\n",
            "Epoch 57/100\n",
            "10/10 [==============================] - 0s 4ms/step - loss: 0.0000e+00 - accuracy: 0.4608 - val_loss: 0.0000e+00 - val_accuracy: 0.5303\n",
            "Epoch 58/100\n",
            "10/10 [==============================] - 0s 4ms/step - loss: 0.0000e+00 - accuracy: 0.4608 - val_loss: 0.0000e+00 - val_accuracy: 0.5303\n",
            "Epoch 59/100\n",
            "10/10 [==============================] - 0s 4ms/step - loss: 0.0000e+00 - accuracy: 0.4608 - val_loss: 0.0000e+00 - val_accuracy: 0.5303\n",
            "Epoch 60/100\n",
            "10/10 [==============================] - 0s 4ms/step - loss: 0.0000e+00 - accuracy: 0.4608 - val_loss: 0.0000e+00 - val_accuracy: 0.5303\n",
            "Epoch 61/100\n",
            "10/10 [==============================] - 0s 4ms/step - loss: 0.0000e+00 - accuracy: 0.4608 - val_loss: 0.0000e+00 - val_accuracy: 0.5303\n",
            "Epoch 62/100\n",
            "10/10 [==============================] - 0s 4ms/step - loss: 0.0000e+00 - accuracy: 0.4608 - val_loss: 0.0000e+00 - val_accuracy: 0.5303\n",
            "Epoch 63/100\n",
            "10/10 [==============================] - 0s 4ms/step - loss: 0.0000e+00 - accuracy: 0.4608 - val_loss: 0.0000e+00 - val_accuracy: 0.5303\n",
            "Epoch 64/100\n",
            "10/10 [==============================] - 0s 4ms/step - loss: 0.0000e+00 - accuracy: 0.4608 - val_loss: 0.0000e+00 - val_accuracy: 0.5303\n",
            "Epoch 65/100\n",
            "10/10 [==============================] - 0s 4ms/step - loss: 0.0000e+00 - accuracy: 0.4608 - val_loss: 0.0000e+00 - val_accuracy: 0.5303\n",
            "Epoch 66/100\n",
            "10/10 [==============================] - 0s 4ms/step - loss: 0.0000e+00 - accuracy: 0.4608 - val_loss: 0.0000e+00 - val_accuracy: 0.5303\n",
            "Epoch 67/100\n",
            "10/10 [==============================] - 0s 4ms/step - loss: 0.0000e+00 - accuracy: 0.4608 - val_loss: 0.0000e+00 - val_accuracy: 0.5303\n",
            "Epoch 68/100\n",
            "10/10 [==============================] - 0s 4ms/step - loss: 0.0000e+00 - accuracy: 0.4608 - val_loss: 0.0000e+00 - val_accuracy: 0.5303\n",
            "Epoch 69/100\n",
            "10/10 [==============================] - 0s 3ms/step - loss: 0.0000e+00 - accuracy: 0.4608 - val_loss: 0.0000e+00 - val_accuracy: 0.5303\n",
            "Epoch 70/100\n",
            "10/10 [==============================] - 0s 4ms/step - loss: 0.0000e+00 - accuracy: 0.4608 - val_loss: 0.0000e+00 - val_accuracy: 0.5303\n",
            "Epoch 71/100\n",
            "10/10 [==============================] - 0s 4ms/step - loss: 0.0000e+00 - accuracy: 0.4608 - val_loss: 0.0000e+00 - val_accuracy: 0.5303\n",
            "Epoch 72/100\n",
            "10/10 [==============================] - 0s 4ms/step - loss: 0.0000e+00 - accuracy: 0.4608 - val_loss: 0.0000e+00 - val_accuracy: 0.5303\n",
            "Epoch 73/100\n",
            "10/10 [==============================] - 0s 4ms/step - loss: 0.0000e+00 - accuracy: 0.4608 - val_loss: 0.0000e+00 - val_accuracy: 0.5303\n",
            "Epoch 74/100\n",
            "10/10 [==============================] - 0s 4ms/step - loss: 0.0000e+00 - accuracy: 0.4608 - val_loss: 0.0000e+00 - val_accuracy: 0.5303\n",
            "Epoch 75/100\n",
            "10/10 [==============================] - 0s 4ms/step - loss: 0.0000e+00 - accuracy: 0.4608 - val_loss: 0.0000e+00 - val_accuracy: 0.5303\n",
            "Epoch 76/100\n",
            "10/10 [==============================] - 0s 5ms/step - loss: 0.0000e+00 - accuracy: 0.4608 - val_loss: 0.0000e+00 - val_accuracy: 0.5303\n",
            "Epoch 77/100\n",
            "10/10 [==============================] - 0s 4ms/step - loss: 0.0000e+00 - accuracy: 0.4608 - val_loss: 0.0000e+00 - val_accuracy: 0.5303\n",
            "Epoch 78/100\n",
            "10/10 [==============================] - 0s 4ms/step - loss: 0.0000e+00 - accuracy: 0.4608 - val_loss: 0.0000e+00 - val_accuracy: 0.5303\n",
            "Epoch 79/100\n",
            "10/10 [==============================] - 0s 4ms/step - loss: 0.0000e+00 - accuracy: 0.4608 - val_loss: 0.0000e+00 - val_accuracy: 0.5303\n",
            "Epoch 80/100\n",
            "10/10 [==============================] - 0s 4ms/step - loss: 0.0000e+00 - accuracy: 0.4608 - val_loss: 0.0000e+00 - val_accuracy: 0.5303\n",
            "Epoch 81/100\n",
            "10/10 [==============================] - 0s 4ms/step - loss: 0.0000e+00 - accuracy: 0.4608 - val_loss: 0.0000e+00 - val_accuracy: 0.5303\n",
            "Epoch 82/100\n",
            "10/10 [==============================] - 0s 4ms/step - loss: 0.0000e+00 - accuracy: 0.4608 - val_loss: 0.0000e+00 - val_accuracy: 0.5303\n",
            "Epoch 83/100\n",
            "10/10 [==============================] - 0s 4ms/step - loss: 0.0000e+00 - accuracy: 0.4608 - val_loss: 0.0000e+00 - val_accuracy: 0.5303\n",
            "Epoch 84/100\n",
            "10/10 [==============================] - 0s 4ms/step - loss: 0.0000e+00 - accuracy: 0.4625 - val_loss: 0.0000e+00 - val_accuracy: 0.5303\n",
            "Epoch 85/100\n",
            "10/10 [==============================] - 0s 4ms/step - loss: 0.0000e+00 - accuracy: 0.4625 - val_loss: 0.0000e+00 - val_accuracy: 0.5303\n",
            "Epoch 86/100\n",
            "10/10 [==============================] - 0s 4ms/step - loss: 0.0000e+00 - accuracy: 0.4625 - val_loss: 0.0000e+00 - val_accuracy: 0.5303\n",
            "Epoch 87/100\n",
            "10/10 [==============================] - 0s 4ms/step - loss: 0.0000e+00 - accuracy: 0.4625 - val_loss: 0.0000e+00 - val_accuracy: 0.5303\n",
            "Epoch 88/100\n",
            "10/10 [==============================] - 0s 5ms/step - loss: 0.0000e+00 - accuracy: 0.4625 - val_loss: 0.0000e+00 - val_accuracy: 0.5303\n",
            "Epoch 89/100\n",
            "10/10 [==============================] - 0s 4ms/step - loss: 0.0000e+00 - accuracy: 0.4625 - val_loss: 0.0000e+00 - val_accuracy: 0.5303\n",
            "Epoch 90/100\n",
            "10/10 [==============================] - 0s 4ms/step - loss: 0.0000e+00 - accuracy: 0.4625 - val_loss: 0.0000e+00 - val_accuracy: 0.5303\n",
            "Epoch 91/100\n",
            "10/10 [==============================] - 0s 4ms/step - loss: 0.0000e+00 - accuracy: 0.4625 - val_loss: 0.0000e+00 - val_accuracy: 0.5303\n",
            "Epoch 92/100\n",
            "10/10 [==============================] - 0s 4ms/step - loss: 0.0000e+00 - accuracy: 0.4625 - val_loss: 0.0000e+00 - val_accuracy: 0.5303\n",
            "Epoch 93/100\n",
            "10/10 [==============================] - 0s 4ms/step - loss: 0.0000e+00 - accuracy: 0.4625 - val_loss: 0.0000e+00 - val_accuracy: 0.5303\n",
            "Epoch 94/100\n",
            "10/10 [==============================] - 0s 6ms/step - loss: 0.0000e+00 - accuracy: 0.4625 - val_loss: 0.0000e+00 - val_accuracy: 0.5303\n",
            "Epoch 95/100\n",
            "10/10 [==============================] - 0s 4ms/step - loss: 0.0000e+00 - accuracy: 0.4625 - val_loss: 0.0000e+00 - val_accuracy: 0.5303\n",
            "Epoch 96/100\n",
            "10/10 [==============================] - 0s 4ms/step - loss: 0.0000e+00 - accuracy: 0.4625 - val_loss: 0.0000e+00 - val_accuracy: 0.5303\n",
            "Epoch 97/100\n",
            "10/10 [==============================] - 0s 4ms/step - loss: 0.0000e+00 - accuracy: 0.4625 - val_loss: 0.0000e+00 - val_accuracy: 0.5303\n",
            "Epoch 98/100\n",
            "10/10 [==============================] - 0s 4ms/step - loss: 0.0000e+00 - accuracy: 0.4625 - val_loss: 0.0000e+00 - val_accuracy: 0.5303\n",
            "Epoch 99/100\n",
            "10/10 [==============================] - 0s 4ms/step - loss: 0.0000e+00 - accuracy: 0.4625 - val_loss: 0.0000e+00 - val_accuracy: 0.5303\n",
            "Epoch 100/100\n",
            "10/10 [==============================] - 0s 4ms/step - loss: 0.0000e+00 - accuracy: 0.4625 - val_loss: 0.0000e+00 - val_accuracy: 0.5303\n"
          ]
        }
      ]
    }
  ],
  "metadata": {
    "colab": {
      "provenance": []
    },
    "kernelspec": {
      "display_name": "Python 3",
      "name": "python3"
    },
    "language_info": {
      "name": "python"
    }
  },
  "nbformat": 4,
  "nbformat_minor": 0
}